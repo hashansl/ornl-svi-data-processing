{
 "cells": [
  {
   "cell_type": "markdown",
   "metadata": {},
   "source": [
    "### Creating the Annotation file based on the overdose rate(Considering entire US)"
   ]
  },
  {
   "cell_type": "code",
   "execution_count": 7,
   "metadata": {},
   "outputs": [],
   "source": [
    "# Import libraries\n",
    "import os\n",
    "import geopandas as gpd\n",
    "import pandas as pd"
   ]
  },
  {
   "cell_type": "code",
   "execution_count": 8,
   "metadata": {},
   "outputs": [],
   "source": [
    "overdose_df = pd.read_excel('/home/h6x/git_projects/ornl-svi-data-processing/raw_data/HepVu_County_Opioid_Indicators_05DEC22.xlsx',dtype={'GEO ID': str} )"
   ]
  },
  {
   "cell_type": "code",
   "execution_count": 9,
   "metadata": {},
   "outputs": [
    {
     "data": {
      "text/html": [
       "<div>\n",
       "<style scoped>\n",
       "    .dataframe tbody tr th:only-of-type {\n",
       "        vertical-align: middle;\n",
       "    }\n",
       "\n",
       "    .dataframe tbody tr th {\n",
       "        vertical-align: top;\n",
       "    }\n",
       "\n",
       "    .dataframe thead th {\n",
       "        text-align: right;\n",
       "    }\n",
       "</style>\n",
       "<table border=\"1\" class=\"dataframe\">\n",
       "  <thead>\n",
       "    <tr style=\"text-align: right;\">\n",
       "      <th></th>\n",
       "      <th>GEO ID</th>\n",
       "      <th>State Abbreviation</th>\n",
       "      <th>County Name</th>\n",
       "      <th>Opioid Prescription Rate 2020</th>\n",
       "      <th>Narcotic Overdose Mortality Rate 2014</th>\n",
       "      <th>Narcotic Overdose Mortality Rate 2015</th>\n",
       "      <th>Narcotic Overdose Mortality Rate 2016</th>\n",
       "      <th>Narcotic Overdose Mortality Rate 2017</th>\n",
       "      <th>Narcotic Overdose Mortality Rate 2018</th>\n",
       "      <th>Narcotic Overdose Mortality Rate 2019</th>\n",
       "      <th>Narcotic Overdose Mortality Rate 2020</th>\n",
       "    </tr>\n",
       "  </thead>\n",
       "  <tbody>\n",
       "    <tr>\n",
       "      <th>0</th>\n",
       "      <td>1001</td>\n",
       "      <td>AL</td>\n",
       "      <td>Autauga County</td>\n",
       "      <td>98.3</td>\n",
       "      <td>8.2</td>\n",
       "      <td>8.8</td>\n",
       "      <td>10.7</td>\n",
       "      <td>9.8</td>\n",
       "      <td>10.9</td>\n",
       "      <td>9.2</td>\n",
       "      <td>11.6</td>\n",
       "    </tr>\n",
       "    <tr>\n",
       "      <th>1</th>\n",
       "      <td>1003</td>\n",
       "      <td>AL</td>\n",
       "      <td>Baldwin County</td>\n",
       "      <td>65.0</td>\n",
       "      <td>18.0</td>\n",
       "      <td>20.0</td>\n",
       "      <td>16.6</td>\n",
       "      <td>15.1</td>\n",
       "      <td>14.9</td>\n",
       "      <td>14.5</td>\n",
       "      <td>27.4</td>\n",
       "    </tr>\n",
       "    <tr>\n",
       "      <th>2</th>\n",
       "      <td>1005</td>\n",
       "      <td>AL</td>\n",
       "      <td>Barbour County</td>\n",
       "      <td>22.8</td>\n",
       "      <td>4.4</td>\n",
       "      <td>4.5</td>\n",
       "      <td>5.7</td>\n",
       "      <td>5.8</td>\n",
       "      <td>5.2</td>\n",
       "      <td>5.7</td>\n",
       "      <td>7.6</td>\n",
       "    </tr>\n",
       "  </tbody>\n",
       "</table>\n",
       "</div>"
      ],
      "text/plain": [
       "  GEO ID State Abbreviation     County Name  Opioid Prescription Rate 2020  \\\n",
       "0   1001                 AL  Autauga County                           98.3   \n",
       "1   1003                 AL  Baldwin County                           65.0   \n",
       "2   1005                 AL  Barbour County                           22.8   \n",
       "\n",
       "   Narcotic Overdose Mortality Rate 2014  \\\n",
       "0                                    8.2   \n",
       "1                                   18.0   \n",
       "2                                    4.4   \n",
       "\n",
       "   Narcotic Overdose Mortality Rate 2015  \\\n",
       "0                                    8.8   \n",
       "1                                   20.0   \n",
       "2                                    4.5   \n",
       "\n",
       "   Narcotic Overdose Mortality Rate 2016  \\\n",
       "0                                   10.7   \n",
       "1                                   16.6   \n",
       "2                                    5.7   \n",
       "\n",
       "   Narcotic Overdose Mortality Rate 2017  \\\n",
       "0                                    9.8   \n",
       "1                                   15.1   \n",
       "2                                    5.8   \n",
       "\n",
       "   Narcotic Overdose Mortality Rate 2018  \\\n",
       "0                                   10.9   \n",
       "1                                   14.9   \n",
       "2                                    5.2   \n",
       "\n",
       "   Narcotic Overdose Mortality Rate 2019  \\\n",
       "0                                    9.2   \n",
       "1                                   14.5   \n",
       "2                                    5.7   \n",
       "\n",
       "   Narcotic Overdose Mortality Rate 2020  \n",
       "0                                   11.6  \n",
       "1                                   27.4  \n",
       "2                                    7.6  "
      ]
     },
     "execution_count": 9,
     "metadata": {},
     "output_type": "execute_result"
    }
   ],
   "source": [
    "overdose_df.head(3)"
   ]
  },
  {
   "cell_type": "code",
   "execution_count": 10,
   "metadata": {},
   "outputs": [
    {
     "data": {
      "text/html": [
       "<div>\n",
       "<style scoped>\n",
       "    .dataframe tbody tr th:only-of-type {\n",
       "        vertical-align: middle;\n",
       "    }\n",
       "\n",
       "    .dataframe tbody tr th {\n",
       "        vertical-align: top;\n",
       "    }\n",
       "\n",
       "    .dataframe thead th {\n",
       "        text-align: right;\n",
       "    }\n",
       "</style>\n",
       "<table border=\"1\" class=\"dataframe\">\n",
       "  <thead>\n",
       "    <tr style=\"text-align: right;\">\n",
       "      <th></th>\n",
       "      <th>GEO ID</th>\n",
       "      <th>State Abbreviation</th>\n",
       "      <th>County Name</th>\n",
       "      <th>Opioid Prescription Rate 2020</th>\n",
       "      <th>Narcotic Overdose Mortality Rate 2014</th>\n",
       "      <th>Narcotic Overdose Mortality Rate 2015</th>\n",
       "      <th>Narcotic Overdose Mortality Rate 2016</th>\n",
       "      <th>Narcotic Overdose Mortality Rate 2017</th>\n",
       "      <th>Narcotic Overdose Mortality Rate 2018</th>\n",
       "      <th>Narcotic Overdose Mortality Rate 2019</th>\n",
       "      <th>Narcotic Overdose Mortality Rate 2020</th>\n",
       "    </tr>\n",
       "  </thead>\n",
       "  <tbody>\n",
       "    <tr>\n",
       "      <th>1869</th>\n",
       "      <td>36081</td>\n",
       "      <td>NY</td>\n",
       "      <td>Queens County</td>\n",
       "      <td>12.7</td>\n",
       "      <td>6.7</td>\n",
       "      <td>7.2</td>\n",
       "      <td>11.4</td>\n",
       "      <td>12.3</td>\n",
       "      <td>11.6</td>\n",
       "      <td>11.7</td>\n",
       "      <td>18.1</td>\n",
       "    </tr>\n",
       "  </tbody>\n",
       "</table>\n",
       "</div>"
      ],
      "text/plain": [
       "     GEO ID State Abbreviation    County Name  Opioid Prescription Rate 2020  \\\n",
       "1869  36081                 NY  Queens County                           12.7   \n",
       "\n",
       "      Narcotic Overdose Mortality Rate 2014  \\\n",
       "1869                                    6.7   \n",
       "\n",
       "      Narcotic Overdose Mortality Rate 2015  \\\n",
       "1869                                    7.2   \n",
       "\n",
       "      Narcotic Overdose Mortality Rate 2016  \\\n",
       "1869                                   11.4   \n",
       "\n",
       "      Narcotic Overdose Mortality Rate 2017  \\\n",
       "1869                                   12.3   \n",
       "\n",
       "      Narcotic Overdose Mortality Rate 2018  \\\n",
       "1869                                   11.6   \n",
       "\n",
       "      Narcotic Overdose Mortality Rate 2019  \\\n",
       "1869                                   11.7   \n",
       "\n",
       "      Narcotic Overdose Mortality Rate 2020  \n",
       "1869                                   18.1  "
      ]
     },
     "execution_count": 10,
     "metadata": {},
     "output_type": "execute_result"
    }
   ],
   "source": [
    "overdose_df[overdose_df['GEO ID']=='36081']"
   ]
  },
  {
   "cell_type": "code",
   "execution_count": null,
   "metadata": {},
   "outputs": [],
   "source": []
  },
  {
   "cell_type": "code",
   "execution_count": 11,
   "metadata": {},
   "outputs": [],
   "source": [
    "overdose_df = overdose_df[['GEO ID','County Name','Narcotic Overdose Mortality Rate 2018']]"
   ]
  },
  {
   "cell_type": "code",
   "execution_count": 12,
   "metadata": {},
   "outputs": [],
   "source": [
    "overdose_df = overdose_df.rename(columns={'Narcotic Overdose Mortality Rate 2018': 'NOD_Rate','GEO ID':'STCNTY'})"
   ]
  },
  {
   "cell_type": "code",
   "execution_count": 13,
   "metadata": {},
   "outputs": [
    {
     "data": {
      "text/plain": [
       "(3221, 3)"
      ]
     },
     "execution_count": 13,
     "metadata": {},
     "output_type": "execute_result"
    }
   ],
   "source": [
    "overdose_df.shape"
   ]
  },
  {
   "cell_type": "code",
   "execution_count": 14,
   "metadata": {},
   "outputs": [],
   "source": [
    "# Calculate the min and max of the column\n",
    "min_value = overdose_df['NOD_Rate'].min()\n",
    "max_value = overdose_df['NOD_Rate'].max()"
   ]
  },
  {
   "cell_type": "code",
   "execution_count": 15,
   "metadata": {},
   "outputs": [
    {
     "data": {
      "text/plain": [
       "-9.0"
      ]
     },
     "execution_count": 15,
     "metadata": {},
     "output_type": "execute_result"
    }
   ],
   "source": [
    "min_value"
   ]
  },
  {
   "cell_type": "code",
   "execution_count": 16,
   "metadata": {},
   "outputs": [
    {
     "data": {
      "text/plain": [
       "114.4"
      ]
     },
     "execution_count": 16,
     "metadata": {},
     "output_type": "execute_result"
    }
   ],
   "source": [
    "max_value"
   ]
  },
  {
   "cell_type": "code",
   "execution_count": 17,
   "metadata": {},
   "outputs": [
    {
     "data": {
      "text/plain": [
       "89"
      ]
     },
     "execution_count": 17,
     "metadata": {},
     "output_type": "execute_result"
    }
   ],
   "source": [
    "# Assuming negative overdose rate means this data is missing\n",
    "len(overdose_df[overdose_df['NOD_Rate'] < 0])"
   ]
  },
  {
   "cell_type": "code",
   "execution_count": 18,
   "metadata": {},
   "outputs": [],
   "source": [
    "# lets not consider the missing data\n",
    "overdose_df = overdose_df[overdose_df['NOD_Rate'] >= 0]"
   ]
  },
  {
   "cell_type": "code",
   "execution_count": 19,
   "metadata": {},
   "outputs": [
    {
     "data": {
      "text/plain": [
       "(3132, 3)"
      ]
     },
     "execution_count": 19,
     "metadata": {},
     "output_type": "execute_result"
    }
   ],
   "source": [
    "overdose_df.shape"
   ]
  },
  {
   "cell_type": "code",
   "execution_count": 20,
   "metadata": {},
   "outputs": [],
   "source": [
    "# overdose_df['OD_class'] = pd.qcut(overdose_df['NOD_Rate'], q=[0,0.90, 1], labels=['0', '1'])\n",
    "overdose_df['OD_class'] = pd.qcut(overdose_df['NOD_Rate'], q=[0,0.20,0.40,0.60,0.80, 1], labels=['0','1','2','3','4'])"
   ]
  },
  {
   "cell_type": "code",
   "execution_count": 21,
   "metadata": {},
   "outputs": [],
   "source": [
    "overdose_df = overdose_df.reset_index(drop=True)"
   ]
  },
  {
   "cell_type": "code",
   "execution_count": 22,
   "metadata": {},
   "outputs": [],
   "source": [
    "overdose_df['STCNTY'] = overdose_df['STCNTY'].apply(lambda x: '0' + x if len(x) == 4 else x)"
   ]
  },
  {
   "cell_type": "code",
   "execution_count": 23,
   "metadata": {},
   "outputs": [
    {
     "data": {
      "text/html": [
       "<div>\n",
       "<style scoped>\n",
       "    .dataframe tbody tr th:only-of-type {\n",
       "        vertical-align: middle;\n",
       "    }\n",
       "\n",
       "    .dataframe tbody tr th {\n",
       "        vertical-align: top;\n",
       "    }\n",
       "\n",
       "    .dataframe thead th {\n",
       "        text-align: right;\n",
       "    }\n",
       "</style>\n",
       "<table border=\"1\" class=\"dataframe\">\n",
       "  <thead>\n",
       "    <tr style=\"text-align: right;\">\n",
       "      <th></th>\n",
       "      <th>STCNTY</th>\n",
       "      <th>County Name</th>\n",
       "      <th>NOD_Rate</th>\n",
       "      <th>OD_class</th>\n",
       "    </tr>\n",
       "  </thead>\n",
       "  <tbody>\n",
       "    <tr>\n",
       "      <th>2987</th>\n",
       "      <td>54011</td>\n",
       "      <td>Cabell County</td>\n",
       "      <td>114.4</td>\n",
       "      <td>4</td>\n",
       "    </tr>\n",
       "    <tr>\n",
       "      <th>1206</th>\n",
       "      <td>24510</td>\n",
       "      <td>Baltimore city</td>\n",
       "      <td>108.8</td>\n",
       "      <td>4</td>\n",
       "    </tr>\n",
       "    <tr>\n",
       "      <th>2984</th>\n",
       "      <td>54005</td>\n",
       "      <td>Boone County</td>\n",
       "      <td>94.7</td>\n",
       "      <td>4</td>\n",
       "    </tr>\n",
       "    <tr>\n",
       "      <th>3005</th>\n",
       "      <td>54047</td>\n",
       "      <td>McDowell County</td>\n",
       "      <td>85.1</td>\n",
       "      <td>4</td>\n",
       "    </tr>\n",
       "    <tr>\n",
       "      <th>1806</th>\n",
       "      <td>35039</td>\n",
       "      <td>Rio Arriba Coun</td>\n",
       "      <td>80.0</td>\n",
       "      <td>4</td>\n",
       "    </tr>\n",
       "  </tbody>\n",
       "</table>\n",
       "</div>"
      ],
      "text/plain": [
       "     STCNTY      County Name  NOD_Rate OD_class\n",
       "2987  54011    Cabell County     114.4        4\n",
       "1206  24510   Baltimore city     108.8        4\n",
       "2984  54005     Boone County      94.7        4\n",
       "3005  54047  McDowell County      85.1        4\n",
       "1806  35039  Rio Arriba Coun      80.0        4"
      ]
     },
     "execution_count": 23,
     "metadata": {},
     "output_type": "execute_result"
    }
   ],
   "source": [
    "overdose_df.sort_values(by=['NOD_Rate'], ascending=False).head(5)"
   ]
  },
  {
   "cell_type": "code",
   "execution_count": 25,
   "metadata": {},
   "outputs": [],
   "source": [
    "overdose_df.to_csv('/home/h6x/git_projects/ornl-svi-data-processing/processed_data/annotations/annotations_2018_5_classes.csv', index=False)"
   ]
  },
  {
   "cell_type": "code",
   "execution_count": null,
   "metadata": {},
   "outputs": [],
   "source": []
  }
 ],
 "metadata": {
  "kernelspec": {
   "display_name": "pytorch_env",
   "language": "python",
   "name": "python3"
  },
  "language_info": {
   "codemirror_mode": {
    "name": "ipython",
    "version": 3
   },
   "file_extension": ".py",
   "mimetype": "text/x-python",
   "name": "python",
   "nbconvert_exporter": "python",
   "pygments_lexer": "ipython3",
   "version": "3.12.3"
  }
 },
 "nbformat": 4,
 "nbformat_minor": 2
}
