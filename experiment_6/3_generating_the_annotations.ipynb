{
 "cells": [
  {
   "cell_type": "markdown",
   "metadata": {},
   "source": [
    "Annotation creation\n",
    "\n",
    "Removing - counties that have lesss tha 4 census\n",
    "Sorting 0 labels based on H1 data points they have!"
   ]
  },
  {
   "cell_type": "markdown",
   "metadata": {},
   "source": [
    "H1 data points analysis - add labels"
   ]
  },
  {
   "cell_type": "code",
   "execution_count": 1,
   "metadata": {},
   "outputs": [],
   "source": [
    "import pandas as pd\n",
    "import numpy as np\n",
    "import os\n"
   ]
  },
  {
   "cell_type": "code",
   "execution_count": 2,
   "metadata": {},
   "outputs": [],
   "source": [
    "# import the csv\n",
    "df = pd.read_csv('/home/h6x/git_projects/ornl-svi-data-processing/experiment_2/outputs/census_complex_info.csv')"
   ]
  },
  {
   "cell_type": "code",
   "execution_count": 3,
   "metadata": {},
   "outputs": [
    {
     "data": {
      "text/html": [
       "<div>\n",
       "<style scoped>\n",
       "    .dataframe tbody tr th:only-of-type {\n",
       "        vertical-align: middle;\n",
       "    }\n",
       "\n",
       "    .dataframe tbody tr th {\n",
       "        vertical-align: top;\n",
       "    }\n",
       "\n",
       "    .dataframe thead th {\n",
       "        text-align: right;\n",
       "    }\n",
       "</style>\n",
       "<table border=\"1\" class=\"dataframe\">\n",
       "  <thead>\n",
       "    <tr style=\"text-align: right;\">\n",
       "      <th></th>\n",
       "      <th>State</th>\n",
       "      <th>STCNTY</th>\n",
       "      <th>Variable</th>\n",
       "      <th>Census_count</th>\n",
       "      <th>H0_count</th>\n",
       "      <th>H1_count</th>\n",
       "      <th>H0_inf_count</th>\n",
       "      <th>H1_inf_count</th>\n",
       "      <th>H1_withou_inf_count</th>\n",
       "      <th>H0_withou_inf_count</th>\n",
       "      <th>census_count</th>\n",
       "    </tr>\n",
       "  </thead>\n",
       "  <tbody>\n",
       "    <tr>\n",
       "      <th>0</th>\n",
       "      <td>GA</td>\n",
       "      <td>13009</td>\n",
       "      <td>EP_POV</td>\n",
       "      <td>9</td>\n",
       "      <td>9</td>\n",
       "      <td>0</td>\n",
       "      <td>1</td>\n",
       "      <td>0</td>\n",
       "      <td>0.0</td>\n",
       "      <td>8.0</td>\n",
       "      <td>9.0</td>\n",
       "    </tr>\n",
       "    <tr>\n",
       "      <th>1</th>\n",
       "      <td>GA</td>\n",
       "      <td>13009</td>\n",
       "      <td>EP_UNEMP</td>\n",
       "      <td>9</td>\n",
       "      <td>9</td>\n",
       "      <td>1</td>\n",
       "      <td>1</td>\n",
       "      <td>0</td>\n",
       "      <td>1.0</td>\n",
       "      <td>8.0</td>\n",
       "      <td>9.0</td>\n",
       "    </tr>\n",
       "    <tr>\n",
       "      <th>2</th>\n",
       "      <td>GA</td>\n",
       "      <td>13009</td>\n",
       "      <td>EP_NOHSDP</td>\n",
       "      <td>9</td>\n",
       "      <td>9</td>\n",
       "      <td>1</td>\n",
       "      <td>1</td>\n",
       "      <td>0</td>\n",
       "      <td>1.0</td>\n",
       "      <td>8.0</td>\n",
       "      <td>9.0</td>\n",
       "    </tr>\n",
       "    <tr>\n",
       "      <th>3</th>\n",
       "      <td>GA</td>\n",
       "      <td>13009</td>\n",
       "      <td>EP_UNINSUR</td>\n",
       "      <td>9</td>\n",
       "      <td>9</td>\n",
       "      <td>1</td>\n",
       "      <td>1</td>\n",
       "      <td>0</td>\n",
       "      <td>1.0</td>\n",
       "      <td>8.0</td>\n",
       "      <td>9.0</td>\n",
       "    </tr>\n",
       "    <tr>\n",
       "      <th>4</th>\n",
       "      <td>GA</td>\n",
       "      <td>13009</td>\n",
       "      <td>EP_AGE65</td>\n",
       "      <td>9</td>\n",
       "      <td>9</td>\n",
       "      <td>1</td>\n",
       "      <td>1</td>\n",
       "      <td>0</td>\n",
       "      <td>1.0</td>\n",
       "      <td>8.0</td>\n",
       "      <td>9.0</td>\n",
       "    </tr>\n",
       "  </tbody>\n",
       "</table>\n",
       "</div>"
      ],
      "text/plain": [
       "  State  STCNTY    Variable  Census_count  H0_count  H1_count  H0_inf_count  \\\n",
       "0    GA   13009      EP_POV             9         9         0             1   \n",
       "1    GA   13009    EP_UNEMP             9         9         1             1   \n",
       "2    GA   13009   EP_NOHSDP             9         9         1             1   \n",
       "3    GA   13009  EP_UNINSUR             9         9         1             1   \n",
       "4    GA   13009    EP_AGE65             9         9         1             1   \n",
       "\n",
       "   H1_inf_count  H1_withou_inf_count  H0_withou_inf_count  census_count  \n",
       "0             0                  0.0                  8.0           9.0  \n",
       "1             0                  1.0                  8.0           9.0  \n",
       "2             0                  1.0                  8.0           9.0  \n",
       "3             0                  1.0                  8.0           9.0  \n",
       "4             0                  1.0                  8.0           9.0  "
      ]
     },
     "execution_count": 3,
     "metadata": {},
     "output_type": "execute_result"
    }
   ],
   "source": [
    "df.head()"
   ]
  },
  {
   "cell_type": "code",
   "execution_count": 4,
   "metadata": {},
   "outputs": [
    {
     "data": {
      "text/plain": [
       "['EP_POV',\n",
       " 'EP_UNEMP',\n",
       " 'EP_NOHSDP',\n",
       " 'EP_UNINSUR',\n",
       " 'EP_AGE65',\n",
       " 'EP_AGE17',\n",
       " 'EP_DISABL',\n",
       " 'EP_SNGPNT',\n",
       " 'EP_LIMENG',\n",
       " 'EP_MINRTY',\n",
       " 'EP_MUNIT',\n",
       " 'EP_MOBILE',\n",
       " 'EP_CROWD',\n",
       " 'EP_NOVEH',\n",
       " 'EP_GROUPQ']"
      ]
     },
     "execution_count": 4,
     "metadata": {},
     "output_type": "execute_result"
    }
   ],
   "source": [
    "variables = df['Variable'].unique().tolist()\n",
    "variables"
   ]
  },
  {
   "cell_type": "code",
   "execution_count": 5,
   "metadata": {},
   "outputs": [],
   "source": [
    "# make the STCNTY column STR\n",
    "df['STCNTY'] = df['STCNTY'].apply(lambda x: str(x))"
   ]
  },
  {
   "cell_type": "code",
   "execution_count": 6,
   "metadata": {},
   "outputs": [],
   "source": [
    "# For STCNTY column, we need to add a leading zero if the length of the string is 4\n",
    "df['STCNTY'] = df['STCNTY'].apply(lambda x: '0' + x if len(x) == 4 else x)"
   ]
  },
  {
   "cell_type": "code",
   "execution_count": 7,
   "metadata": {},
   "outputs": [],
   "source": [
    "unque_counties = df['STCNTY'].unique().tolist()"
   ]
  },
  {
   "cell_type": "code",
   "execution_count": 8,
   "metadata": {},
   "outputs": [],
   "source": [
    "# create a new dataframe\n",
    "new_df = pd.DataFrame()"
   ]
  },
  {
   "cell_type": "code",
   "execution_count": 9,
   "metadata": {},
   "outputs": [],
   "source": [
    "for county in unque_counties:    \n",
    "    # get the data for the county\n",
    "    county_data = df[df['STCNTY'] == county]\n",
    "\n",
    "    # get the average H0_withou_inf_count\n",
    "    avg_H0_withou_inf_count = county_data['H1_withou_inf_count'].mean()\n",
    "\n",
    "    new_row = pd.DataFrame([{\n",
    "                'State': county_data['State'].values[0], \n",
    "                'STCNTY': county_data['STCNTY'].values[0], \n",
    "                'Census_count': county_data['census_count'].mean(),\n",
    "                'H1_withou_inf_count_avg': avg_H0_withou_inf_count\n",
    "            }])\n",
    "\n",
    "    new_df = pd.concat([new_df, new_row], ignore_index=True)"
   ]
  },
  {
   "cell_type": "code",
   "execution_count": 10,
   "metadata": {},
   "outputs": [
    {
     "data": {
      "text/html": [
       "<div>\n",
       "<style scoped>\n",
       "    .dataframe tbody tr th:only-of-type {\n",
       "        vertical-align: middle;\n",
       "    }\n",
       "\n",
       "    .dataframe tbody tr th {\n",
       "        vertical-align: top;\n",
       "    }\n",
       "\n",
       "    .dataframe thead th {\n",
       "        text-align: right;\n",
       "    }\n",
       "</style>\n",
       "<table border=\"1\" class=\"dataframe\">\n",
       "  <thead>\n",
       "    <tr style=\"text-align: right;\">\n",
       "      <th></th>\n",
       "      <th>State</th>\n",
       "      <th>STCNTY</th>\n",
       "      <th>Census_count</th>\n",
       "      <th>H1_withou_inf_count_avg</th>\n",
       "    </tr>\n",
       "  </thead>\n",
       "  <tbody>\n",
       "    <tr>\n",
       "      <th>0</th>\n",
       "      <td>GA</td>\n",
       "      <td>13009</td>\n",
       "      <td>9.0</td>\n",
       "      <td>0.733333</td>\n",
       "    </tr>\n",
       "    <tr>\n",
       "      <th>1</th>\n",
       "      <td>GA</td>\n",
       "      <td>13013</td>\n",
       "      <td>18.0</td>\n",
       "      <td>1.266667</td>\n",
       "    </tr>\n",
       "    <tr>\n",
       "      <th>2</th>\n",
       "      <td>GA</td>\n",
       "      <td>13015</td>\n",
       "      <td>15.0</td>\n",
       "      <td>0.466667</td>\n",
       "    </tr>\n",
       "    <tr>\n",
       "      <th>3</th>\n",
       "      <td>GA</td>\n",
       "      <td>13017</td>\n",
       "      <td>5.0</td>\n",
       "      <td>0.000000</td>\n",
       "    </tr>\n",
       "    <tr>\n",
       "      <th>4</th>\n",
       "      <td>GA</td>\n",
       "      <td>13019</td>\n",
       "      <td>6.0</td>\n",
       "      <td>0.000000</td>\n",
       "    </tr>\n",
       "  </tbody>\n",
       "</table>\n",
       "</div>"
      ],
      "text/plain": [
       "  State STCNTY  Census_count  H1_withou_inf_count_avg\n",
       "0    GA  13009           9.0                 0.733333\n",
       "1    GA  13013          18.0                 1.266667\n",
       "2    GA  13015          15.0                 0.466667\n",
       "3    GA  13017           5.0                 0.000000\n",
       "4    GA  13019           6.0                 0.000000"
      ]
     },
     "execution_count": 10,
     "metadata": {},
     "output_type": "execute_result"
    }
   ],
   "source": [
    "new_df.head()"
   ]
  },
  {
   "cell_type": "markdown",
   "metadata": {},
   "source": [
    "Lets add mortaliy info"
   ]
  },
  {
   "cell_type": "code",
   "execution_count": 11,
   "metadata": {},
   "outputs": [],
   "source": [
    "overdose_df = pd.read_excel('/home/h6x/git_projects/ornl-svi-data-processing/raw_data/HepVu_County_Opioid_Indicators_05DEC22.xlsx',dtype={'GEO ID': str})"
   ]
  },
  {
   "cell_type": "code",
   "execution_count": 12,
   "metadata": {},
   "outputs": [],
   "source": [
    "overdose_df = overdose_df[['GEO ID','County Name','Narcotic Overdose Mortality Rate 2018']]"
   ]
  },
  {
   "cell_type": "code",
   "execution_count": 13,
   "metadata": {},
   "outputs": [],
   "source": [
    "overdose_df = overdose_df.rename(columns={'Narcotic Overdose Mortality Rate 2018': 'NOD_Rate','GEO ID':'STCNTY'})"
   ]
  },
  {
   "cell_type": "code",
   "execution_count": 14,
   "metadata": {},
   "outputs": [],
   "source": [
    "# Calculate the min and max of the column\n",
    "min_value = overdose_df['NOD_Rate'].min()\n",
    "max_value = overdose_df['NOD_Rate'].max()"
   ]
  },
  {
   "cell_type": "code",
   "execution_count": 15,
   "metadata": {},
   "outputs": [
    {
     "data": {
      "text/plain": [
       "(-9.0, 114.4)"
      ]
     },
     "execution_count": 15,
     "metadata": {},
     "output_type": "execute_result"
    }
   ],
   "source": [
    "min_value, max_value"
   ]
  },
  {
   "cell_type": "code",
   "execution_count": 16,
   "metadata": {},
   "outputs": [
    {
     "data": {
      "text/plain": [
       "89"
      ]
     },
     "execution_count": 16,
     "metadata": {},
     "output_type": "execute_result"
    }
   ],
   "source": [
    "# Assuming negative overdose rate means this data is missing\n",
    "len(overdose_df[overdose_df['NOD_Rate'] < 0])"
   ]
  },
  {
   "cell_type": "code",
   "execution_count": 17,
   "metadata": {},
   "outputs": [],
   "source": [
    "# lets not consider the missing data\n",
    "overdose_df = overdose_df[overdose_df['NOD_Rate'] >= 0]"
   ]
  },
  {
   "cell_type": "code",
   "execution_count": 18,
   "metadata": {},
   "outputs": [
    {
     "data": {
      "text/plain": [
       "(3132, 3)"
      ]
     },
     "execution_count": 18,
     "metadata": {},
     "output_type": "execute_result"
    }
   ],
   "source": [
    "overdose_df.shape"
   ]
  },
  {
   "cell_type": "code",
   "execution_count": 19,
   "metadata": {},
   "outputs": [],
   "source": [
    "overdose_df['OD_class_90'] = pd.qcut(overdose_df['NOD_Rate'], q=[0,0.90, 1], labels=['0', '1'])\n",
    "overdose_df['OD_class_95'] = pd.qcut(overdose_df['NOD_Rate'], q=[0,0.95, 1], labels=['0', '1'])\n",
    "overdose_df['OD_class_80'] = pd.qcut(overdose_df['NOD_Rate'], q=[0,0.80, 1], labels=['0', '1'])"
   ]
  },
  {
   "cell_type": "code",
   "execution_count": 20,
   "metadata": {},
   "outputs": [],
   "source": [
    "overdose_df = overdose_df.reset_index(drop=True)"
   ]
  },
  {
   "cell_type": "code",
   "execution_count": 21,
   "metadata": {},
   "outputs": [],
   "source": [
    "overdose_df['STCNTY'] = overdose_df['STCNTY'].apply(lambda x: '0' + x if len(x) == 4 else x)"
   ]
  },
  {
   "cell_type": "code",
   "execution_count": 22,
   "metadata": {},
   "outputs": [],
   "source": [
    "# add NOD_Rate and OD_class to the df based on the STCNTY\n",
    "merged_df = pd.merge(new_df, overdose_df[['STCNTY','NOD_Rate','OD_class_90','OD_class_95','OD_class_80']], on='STCNTY', how='left')"
   ]
  },
  {
   "cell_type": "code",
   "execution_count": 23,
   "metadata": {},
   "outputs": [
    {
     "data": {
      "text/html": [
       "<div>\n",
       "<style scoped>\n",
       "    .dataframe tbody tr th:only-of-type {\n",
       "        vertical-align: middle;\n",
       "    }\n",
       "\n",
       "    .dataframe tbody tr th {\n",
       "        vertical-align: top;\n",
       "    }\n",
       "\n",
       "    .dataframe thead th {\n",
       "        text-align: right;\n",
       "    }\n",
       "</style>\n",
       "<table border=\"1\" class=\"dataframe\">\n",
       "  <thead>\n",
       "    <tr style=\"text-align: right;\">\n",
       "      <th></th>\n",
       "      <th>State</th>\n",
       "      <th>STCNTY</th>\n",
       "      <th>Census_count</th>\n",
       "      <th>H1_withou_inf_count_avg</th>\n",
       "      <th>NOD_Rate</th>\n",
       "      <th>OD_class_90</th>\n",
       "      <th>OD_class_95</th>\n",
       "      <th>OD_class_80</th>\n",
       "    </tr>\n",
       "  </thead>\n",
       "  <tbody>\n",
       "    <tr>\n",
       "      <th>0</th>\n",
       "      <td>GA</td>\n",
       "      <td>13009</td>\n",
       "      <td>9.0</td>\n",
       "      <td>0.733333</td>\n",
       "      <td>8.0</td>\n",
       "      <td>0</td>\n",
       "      <td>0</td>\n",
       "      <td>0</td>\n",
       "    </tr>\n",
       "    <tr>\n",
       "      <th>1</th>\n",
       "      <td>GA</td>\n",
       "      <td>13013</td>\n",
       "      <td>18.0</td>\n",
       "      <td>1.266667</td>\n",
       "      <td>18.4</td>\n",
       "      <td>0</td>\n",
       "      <td>0</td>\n",
       "      <td>0</td>\n",
       "    </tr>\n",
       "    <tr>\n",
       "      <th>2</th>\n",
       "      <td>GA</td>\n",
       "      <td>13015</td>\n",
       "      <td>15.0</td>\n",
       "      <td>0.466667</td>\n",
       "      <td>19.9</td>\n",
       "      <td>0</td>\n",
       "      <td>0</td>\n",
       "      <td>0</td>\n",
       "    </tr>\n",
       "    <tr>\n",
       "      <th>3</th>\n",
       "      <td>GA</td>\n",
       "      <td>13017</td>\n",
       "      <td>5.0</td>\n",
       "      <td>0.000000</td>\n",
       "      <td>8.7</td>\n",
       "      <td>0</td>\n",
       "      <td>0</td>\n",
       "      <td>0</td>\n",
       "    </tr>\n",
       "    <tr>\n",
       "      <th>4</th>\n",
       "      <td>GA</td>\n",
       "      <td>13019</td>\n",
       "      <td>6.0</td>\n",
       "      <td>0.000000</td>\n",
       "      <td>11.1</td>\n",
       "      <td>0</td>\n",
       "      <td>0</td>\n",
       "      <td>0</td>\n",
       "    </tr>\n",
       "    <tr>\n",
       "      <th>...</th>\n",
       "      <td>...</td>\n",
       "      <td>...</td>\n",
       "      <td>...</td>\n",
       "      <td>...</td>\n",
       "      <td>...</td>\n",
       "      <td>...</td>\n",
       "      <td>...</td>\n",
       "      <td>...</td>\n",
       "    </tr>\n",
       "    <tr>\n",
       "      <th>3135</th>\n",
       "      <td>HI</td>\n",
       "      <td>15009</td>\n",
       "      <td>34.0</td>\n",
       "      <td>1.400000</td>\n",
       "      <td>15.3</td>\n",
       "      <td>0</td>\n",
       "      <td>0</td>\n",
       "      <td>0</td>\n",
       "    </tr>\n",
       "    <tr>\n",
       "      <th>3136</th>\n",
       "      <td>HI</td>\n",
       "      <td>15005</td>\n",
       "      <td>1.0</td>\n",
       "      <td>0.000000</td>\n",
       "      <td>19.4</td>\n",
       "      <td>0</td>\n",
       "      <td>0</td>\n",
       "      <td>0</td>\n",
       "    </tr>\n",
       "    <tr>\n",
       "      <th>3137</th>\n",
       "      <td>DE</td>\n",
       "      <td>10001</td>\n",
       "      <td>32.0</td>\n",
       "      <td>1.933333</td>\n",
       "      <td>32.9</td>\n",
       "      <td>1</td>\n",
       "      <td>0</td>\n",
       "      <td>1</td>\n",
       "    </tr>\n",
       "    <tr>\n",
       "      <th>3138</th>\n",
       "      <td>DE</td>\n",
       "      <td>10003</td>\n",
       "      <td>129.0</td>\n",
       "      <td>12.333333</td>\n",
       "      <td>43.6</td>\n",
       "      <td>1</td>\n",
       "      <td>1</td>\n",
       "      <td>1</td>\n",
       "    </tr>\n",
       "    <tr>\n",
       "      <th>3139</th>\n",
       "      <td>DE</td>\n",
       "      <td>10005</td>\n",
       "      <td>53.0</td>\n",
       "      <td>3.866667</td>\n",
       "      <td>35.1</td>\n",
       "      <td>1</td>\n",
       "      <td>0</td>\n",
       "      <td>1</td>\n",
       "    </tr>\n",
       "  </tbody>\n",
       "</table>\n",
       "<p>3140 rows × 8 columns</p>\n",
       "</div>"
      ],
      "text/plain": [
       "     State STCNTY  Census_count  H1_withou_inf_count_avg  NOD_Rate  \\\n",
       "0       GA  13009           9.0                 0.733333       8.0   \n",
       "1       GA  13013          18.0                 1.266667      18.4   \n",
       "2       GA  13015          15.0                 0.466667      19.9   \n",
       "3       GA  13017           5.0                 0.000000       8.7   \n",
       "4       GA  13019           6.0                 0.000000      11.1   \n",
       "...    ...    ...           ...                      ...       ...   \n",
       "3135    HI  15009          34.0                 1.400000      15.3   \n",
       "3136    HI  15005           1.0                 0.000000      19.4   \n",
       "3137    DE  10001          32.0                 1.933333      32.9   \n",
       "3138    DE  10003         129.0                12.333333      43.6   \n",
       "3139    DE  10005          53.0                 3.866667      35.1   \n",
       "\n",
       "     OD_class_90 OD_class_95 OD_class_80  \n",
       "0              0           0           0  \n",
       "1              0           0           0  \n",
       "2              0           0           0  \n",
       "3              0           0           0  \n",
       "4              0           0           0  \n",
       "...          ...         ...         ...  \n",
       "3135           0           0           0  \n",
       "3136           0           0           0  \n",
       "3137           1           0           1  \n",
       "3138           1           1           1  \n",
       "3139           1           0           1  \n",
       "\n",
       "[3140 rows x 8 columns]"
      ]
     },
     "execution_count": 23,
     "metadata": {},
     "output_type": "execute_result"
    }
   ],
   "source": [
    "merged_df"
   ]
  },
  {
   "cell_type": "markdown",
   "metadata": {},
   "source": [
    "drop if census count less than 4"
   ]
  },
  {
   "cell_type": "code",
   "execution_count": 24,
   "metadata": {},
   "outputs": [],
   "source": [
    "# drop if xcensus count less than 4\n",
    "merged_df_ = merged_df[merged_df['Census_count'] >= 4]"
   ]
  },
  {
   "cell_type": "code",
   "execution_count": 25,
   "metadata": {},
   "outputs": [
    {
     "data": {
      "text/plain": [
       "(2266, 8)"
      ]
     },
     "execution_count": 25,
     "metadata": {},
     "output_type": "execute_result"
    }
   ],
   "source": [
    "merged_df_.shape"
   ]
  },
  {
   "cell_type": "code",
   "execution_count": 26,
   "metadata": {},
   "outputs": [],
   "source": [
    "# get the county STCNTY into a list\n",
    "counties_grater_than_4_census = merged_df_['STCNTY'].tolist()"
   ]
  },
  {
   "cell_type": "markdown",
   "metadata": {},
   "source": [
    "Now check the generated data"
   ]
  },
  {
   "cell_type": "code",
   "execution_count": 27,
   "metadata": {},
   "outputs": [],
   "source": [
    "BASE_DIR = '/home/h6x/git_projects/ornl-svi-data-processing/experiment_2/processed_data_1'\n",
    "DATA_DIR = f\"{BASE_DIR}/npy_all_variables\"\n",
    "COMBINED_FEATURES_DIR = f\"{BASE_DIR}/npy_combined\""
   ]
  },
  {
   "cell_type": "code",
   "execution_count": 28,
   "metadata": {},
   "outputs": [],
   "source": [
    "def get_npy_filenames(directory):\n",
    "    \"\"\"\n",
    "    Get all .npy file names in the specified directory without the .npy extension.\n",
    "    \n",
    "    Args:\n",
    "    directory (str): The path to the directory containing .npy files.\n",
    "    \n",
    "    Returns:\n",
    "    list: A list of file names without the .npy extension.\n",
    "    \"\"\"\n",
    "    file_names = []\n",
    "    for file in os.listdir(directory):\n",
    "        if file.endswith('.npy'):\n",
    "            file_names.append(os.path.splitext(file)[0])\n",
    "    return file_names"
   ]
  },
  {
   "cell_type": "code",
   "execution_count": 29,
   "metadata": {},
   "outputs": [],
   "source": [
    "fips_codes_generated_persistence_images = get_npy_filenames(COMBINED_FEATURES_DIR)"
   ]
  },
  {
   "cell_type": "code",
   "execution_count": 30,
   "metadata": {},
   "outputs": [
    {
     "data": {
      "text/plain": [
       "2746"
      ]
     },
     "execution_count": 30,
     "metadata": {},
     "output_type": "execute_result"
    }
   ],
   "source": [
    "len(fips_codes_generated_persistence_images)"
   ]
  },
  {
   "cell_type": "code",
   "execution_count": 31,
   "metadata": {},
   "outputs": [
    {
     "data": {
      "text/plain": [
       "(2266, 8)"
      ]
     },
     "execution_count": 31,
     "metadata": {},
     "output_type": "execute_result"
    }
   ],
   "source": [
    "merged_df_.shape"
   ]
  },
  {
   "cell_type": "code",
   "execution_count": 32,
   "metadata": {},
   "outputs": [],
   "source": [
    "# FILTER merged_df_ based on the fips_codes_generated_persistence_images\n",
    "merged_df_filtered = merged_df_[merged_df_['STCNTY'].isin(fips_codes_generated_persistence_images)]"
   ]
  },
  {
   "cell_type": "code",
   "execution_count": 33,
   "metadata": {},
   "outputs": [
    {
     "data": {
      "text/plain": [
       "(2227, 8)"
      ]
     },
     "execution_count": 33,
     "metadata": {},
     "output_type": "execute_result"
    }
   ],
   "source": [
    "merged_df_filtered.shape"
   ]
  },
  {
   "cell_type": "code",
   "execution_count": 34,
   "metadata": {},
   "outputs": [
    {
     "data": {
      "text/html": [
       "<div>\n",
       "<style scoped>\n",
       "    .dataframe tbody tr th:only-of-type {\n",
       "        vertical-align: middle;\n",
       "    }\n",
       "\n",
       "    .dataframe tbody tr th {\n",
       "        vertical-align: top;\n",
       "    }\n",
       "\n",
       "    .dataframe thead th {\n",
       "        text-align: right;\n",
       "    }\n",
       "</style>\n",
       "<table border=\"1\" class=\"dataframe\">\n",
       "  <thead>\n",
       "    <tr style=\"text-align: right;\">\n",
       "      <th></th>\n",
       "      <th>State</th>\n",
       "      <th>STCNTY</th>\n",
       "      <th>Census_count</th>\n",
       "      <th>H1_withou_inf_count_avg</th>\n",
       "      <th>NOD_Rate</th>\n",
       "      <th>OD_class_90</th>\n",
       "      <th>OD_class_95</th>\n",
       "      <th>OD_class_80</th>\n",
       "    </tr>\n",
       "  </thead>\n",
       "  <tbody>\n",
       "    <tr>\n",
       "      <th>0</th>\n",
       "      <td>GA</td>\n",
       "      <td>13009</td>\n",
       "      <td>9.0</td>\n",
       "      <td>0.733333</td>\n",
       "      <td>8.0</td>\n",
       "      <td>0</td>\n",
       "      <td>0</td>\n",
       "      <td>0</td>\n",
       "    </tr>\n",
       "    <tr>\n",
       "      <th>1</th>\n",
       "      <td>GA</td>\n",
       "      <td>13013</td>\n",
       "      <td>18.0</td>\n",
       "      <td>1.266667</td>\n",
       "      <td>18.4</td>\n",
       "      <td>0</td>\n",
       "      <td>0</td>\n",
       "      <td>0</td>\n",
       "    </tr>\n",
       "    <tr>\n",
       "      <th>2</th>\n",
       "      <td>GA</td>\n",
       "      <td>13015</td>\n",
       "      <td>15.0</td>\n",
       "      <td>0.466667</td>\n",
       "      <td>19.9</td>\n",
       "      <td>0</td>\n",
       "      <td>0</td>\n",
       "      <td>0</td>\n",
       "    </tr>\n",
       "    <tr>\n",
       "      <th>3</th>\n",
       "      <td>GA</td>\n",
       "      <td>13017</td>\n",
       "      <td>5.0</td>\n",
       "      <td>0.000000</td>\n",
       "      <td>8.7</td>\n",
       "      <td>0</td>\n",
       "      <td>0</td>\n",
       "      <td>0</td>\n",
       "    </tr>\n",
       "    <tr>\n",
       "      <th>4</th>\n",
       "      <td>GA</td>\n",
       "      <td>13019</td>\n",
       "      <td>6.0</td>\n",
       "      <td>0.000000</td>\n",
       "      <td>11.1</td>\n",
       "      <td>0</td>\n",
       "      <td>0</td>\n",
       "      <td>0</td>\n",
       "    </tr>\n",
       "  </tbody>\n",
       "</table>\n",
       "</div>"
      ],
      "text/plain": [
       "  State STCNTY  Census_count  H1_withou_inf_count_avg  NOD_Rate OD_class_90  \\\n",
       "0    GA  13009           9.0                 0.733333       8.0           0   \n",
       "1    GA  13013          18.0                 1.266667      18.4           0   \n",
       "2    GA  13015          15.0                 0.466667      19.9           0   \n",
       "3    GA  13017           5.0                 0.000000       8.7           0   \n",
       "4    GA  13019           6.0                 0.000000      11.1           0   \n",
       "\n",
       "  OD_class_95 OD_class_80  \n",
       "0           0           0  \n",
       "1           0           0  \n",
       "2           0           0  \n",
       "3           0           0  \n",
       "4           0           0  "
      ]
     },
     "execution_count": 34,
     "metadata": {},
     "output_type": "execute_result"
    }
   ],
   "source": [
    "merged_df_filtered.head()"
   ]
  },
  {
   "cell_type": "code",
   "execution_count": 35,
   "metadata": {},
   "outputs": [],
   "source": [
    "high_df = merged_df_filtered[merged_df_filtered['OD_class_90'] == '1']"
   ]
  },
  {
   "cell_type": "code",
   "execution_count": 36,
   "metadata": {},
   "outputs": [
    {
     "data": {
      "text/plain": [
       "(269, 8)"
      ]
     },
     "execution_count": 36,
     "metadata": {},
     "output_type": "execute_result"
    }
   ],
   "source": [
    "high_df.shape"
   ]
  },
  {
   "cell_type": "code",
   "execution_count": 37,
   "metadata": {},
   "outputs": [],
   "source": [
    "low_df = merged_df_filtered[merged_df_filtered['OD_class_90'] == '0']"
   ]
  },
  {
   "cell_type": "code",
   "execution_count": 39,
   "metadata": {},
   "outputs": [],
   "source": [
    "# sort the low_df based on the H0_withou_inf_count_avg\n",
    "low_df = low_df.sort_values(by='H1_withou_inf_count_avg', ascending=False)"
   ]
  },
  {
   "cell_type": "code",
   "execution_count": 40,
   "metadata": {},
   "outputs": [
    {
     "data": {
      "text/html": [
       "<div>\n",
       "<style scoped>\n",
       "    .dataframe tbody tr th:only-of-type {\n",
       "        vertical-align: middle;\n",
       "    }\n",
       "\n",
       "    .dataframe tbody tr th {\n",
       "        vertical-align: top;\n",
       "    }\n",
       "\n",
       "    .dataframe thead th {\n",
       "        text-align: right;\n",
       "    }\n",
       "</style>\n",
       "<table border=\"1\" class=\"dataframe\">\n",
       "  <thead>\n",
       "    <tr style=\"text-align: right;\">\n",
       "      <th></th>\n",
       "      <th>State</th>\n",
       "      <th>STCNTY</th>\n",
       "      <th>Census_count</th>\n",
       "      <th>H1_withou_inf_count_avg</th>\n",
       "      <th>NOD_Rate</th>\n",
       "      <th>OD_class_90</th>\n",
       "      <th>OD_class_95</th>\n",
       "      <th>OD_class_80</th>\n",
       "    </tr>\n",
       "  </thead>\n",
       "  <tbody>\n",
       "    <tr>\n",
       "      <th>2278</th>\n",
       "      <td>CA</td>\n",
       "      <td>06037</td>\n",
       "      <td>2315.0</td>\n",
       "      <td>271.666667</td>\n",
       "      <td>9.8</td>\n",
       "      <td>0</td>\n",
       "      <td>0</td>\n",
       "      <td>0</td>\n",
       "    </tr>\n",
       "    <tr>\n",
       "      <th>3035</th>\n",
       "      <td>IL</td>\n",
       "      <td>17031</td>\n",
       "      <td>1315.0</td>\n",
       "      <td>156.600000</td>\n",
       "      <td>23.4</td>\n",
       "      <td>0</td>\n",
       "      <td>0</td>\n",
       "      <td>0</td>\n",
       "    </tr>\n",
       "    <tr>\n",
       "      <th>987</th>\n",
       "      <td>AZ</td>\n",
       "      <td>04013</td>\n",
       "      <td>908.0</td>\n",
       "      <td>117.533333</td>\n",
       "      <td>24.5</td>\n",
       "      <td>0</td>\n",
       "      <td>0</td>\n",
       "      <td>1</td>\n",
       "    </tr>\n",
       "    <tr>\n",
       "      <th>313</th>\n",
       "      <td>TX</td>\n",
       "      <td>48201</td>\n",
       "      <td>783.0</td>\n",
       "      <td>90.066667</td>\n",
       "      <td>12.7</td>\n",
       "      <td>0</td>\n",
       "      <td>0</td>\n",
       "      <td>0</td>\n",
       "    </tr>\n",
       "    <tr>\n",
       "      <th>182</th>\n",
       "      <td>NY</td>\n",
       "      <td>36047</td>\n",
       "      <td>749.0</td>\n",
       "      <td>80.266667</td>\n",
       "      <td>11.7</td>\n",
       "      <td>0</td>\n",
       "      <td>0</td>\n",
       "      <td>0</td>\n",
       "    </tr>\n",
       "  </tbody>\n",
       "</table>\n",
       "</div>"
      ],
      "text/plain": [
       "     State STCNTY  Census_count  H1_withou_inf_count_avg  NOD_Rate  \\\n",
       "2278    CA  06037        2315.0               271.666667       9.8   \n",
       "3035    IL  17031        1315.0               156.600000      23.4   \n",
       "987     AZ  04013         908.0               117.533333      24.5   \n",
       "313     TX  48201         783.0                90.066667      12.7   \n",
       "182     NY  36047         749.0                80.266667      11.7   \n",
       "\n",
       "     OD_class_90 OD_class_95 OD_class_80  \n",
       "2278           0           0           0  \n",
       "3035           0           0           0  \n",
       "987            0           0           1  \n",
       "313            0           0           0  \n",
       "182            0           0           0  "
      ]
     },
     "execution_count": 40,
     "metadata": {},
     "output_type": "execute_result"
    }
   ],
   "source": [
    "low_df.head()"
   ]
  },
  {
   "cell_type": "code",
   "execution_count": 42,
   "metadata": {},
   "outputs": [
    {
     "data": {
      "text/html": [
       "<div>\n",
       "<style scoped>\n",
       "    .dataframe tbody tr th:only-of-type {\n",
       "        vertical-align: middle;\n",
       "    }\n",
       "\n",
       "    .dataframe tbody tr th {\n",
       "        vertical-align: top;\n",
       "    }\n",
       "\n",
       "    .dataframe thead th {\n",
       "        text-align: right;\n",
       "    }\n",
       "</style>\n",
       "<table border=\"1\" class=\"dataframe\">\n",
       "  <thead>\n",
       "    <tr style=\"text-align: right;\">\n",
       "      <th></th>\n",
       "      <th>State</th>\n",
       "      <th>STCNTY</th>\n",
       "      <th>Census_count</th>\n",
       "      <th>H1_withou_inf_count_avg</th>\n",
       "      <th>NOD_Rate</th>\n",
       "      <th>OD_class_90</th>\n",
       "      <th>OD_class_95</th>\n",
       "      <th>OD_class_80</th>\n",
       "    </tr>\n",
       "  </thead>\n",
       "  <tbody>\n",
       "    <tr>\n",
       "      <th>610</th>\n",
       "      <td>PA</td>\n",
       "      <td>42013</td>\n",
       "      <td>34.0</td>\n",
       "      <td>3.200000</td>\n",
       "      <td>20.7</td>\n",
       "      <td>0</td>\n",
       "      <td>0</td>\n",
       "      <td>0</td>\n",
       "    </tr>\n",
       "    <tr>\n",
       "      <th>1923</th>\n",
       "      <td>MT</td>\n",
       "      <td>30111</td>\n",
       "      <td>32.0</td>\n",
       "      <td>3.200000</td>\n",
       "      <td>17.9</td>\n",
       "      <td>0</td>\n",
       "      <td>0</td>\n",
       "      <td>0</td>\n",
       "    </tr>\n",
       "    <tr>\n",
       "      <th>2942</th>\n",
       "      <td>LA</td>\n",
       "      <td>22019</td>\n",
       "      <td>42.0</td>\n",
       "      <td>3.200000</td>\n",
       "      <td>18.5</td>\n",
       "      <td>0</td>\n",
       "      <td>0</td>\n",
       "      <td>0</td>\n",
       "    </tr>\n",
       "    <tr>\n",
       "      <th>705</th>\n",
       "      <td>FL</td>\n",
       "      <td>12097</td>\n",
       "      <td>41.0</td>\n",
       "      <td>3.133333</td>\n",
       "      <td>21.5</td>\n",
       "      <td>0</td>\n",
       "      <td>0</td>\n",
       "      <td>0</td>\n",
       "    </tr>\n",
       "    <tr>\n",
       "      <th>203</th>\n",
       "      <td>NY</td>\n",
       "      <td>36091</td>\n",
       "      <td>50.0</td>\n",
       "      <td>3.133333</td>\n",
       "      <td>11.4</td>\n",
       "      <td>0</td>\n",
       "      <td>0</td>\n",
       "      <td>0</td>\n",
       "    </tr>\n",
       "  </tbody>\n",
       "</table>\n",
       "</div>"
      ],
      "text/plain": [
       "     State STCNTY  Census_count  H1_withou_inf_count_avg  NOD_Rate  \\\n",
       "610     PA  42013          34.0                 3.200000      20.7   \n",
       "1923    MT  30111          32.0                 3.200000      17.9   \n",
       "2942    LA  22019          42.0                 3.200000      18.5   \n",
       "705     FL  12097          41.0                 3.133333      21.5   \n",
       "203     NY  36091          50.0                 3.133333      11.4   \n",
       "\n",
       "     OD_class_90 OD_class_95 OD_class_80  \n",
       "610            0           0           0  \n",
       "1923           0           0           0  \n",
       "2942           0           0           0  \n",
       "705            0           0           0  \n",
       "203            0           0           0  "
      ]
     },
     "execution_count": 42,
     "metadata": {},
     "output_type": "execute_result"
    }
   ],
   "source": [
    "# get 269 rows and print the tail\n",
    "low_df = low_df.iloc[:269]\n",
    "\n",
    "low_df.tail()"
   ]
  },
  {
   "cell_type": "code",
   "execution_count": 43,
   "metadata": {},
   "outputs": [],
   "source": [
    "# combine the high_df and low_df\n",
    "combined_df = pd.concat([high_df, low_df], ignore_index=True)"
   ]
  },
  {
   "cell_type": "code",
   "execution_count": 44,
   "metadata": {},
   "outputs": [
    {
     "data": {
      "text/plain": [
       "(538, 8)"
      ]
     },
     "execution_count": 44,
     "metadata": {},
     "output_type": "execute_result"
    }
   ],
   "source": [
    "combined_df.shape"
   ]
  },
  {
   "cell_type": "code",
   "execution_count": 45,
   "metadata": {},
   "outputs": [],
   "source": [
    "# drop OD_class_95 and OD_class_80\n",
    "combined_df = combined_df.drop(columns=['OD_class_95','OD_class_80'])"
   ]
  },
  {
   "cell_type": "code",
   "execution_count": 46,
   "metadata": {},
   "outputs": [],
   "source": [
    "# output annotation path\n",
    "OUTPUT_ANNOTATION_PATH = f'{BASE_DIR}/annotations_2018_npy_2_classes_only_h0h1_90_percentile.csv'"
   ]
  },
  {
   "cell_type": "code",
   "execution_count": 48,
   "metadata": {},
   "outputs": [],
   "source": [
    "# Save the filtered annotation dataframe\n",
    "# combined_df.to_csv(OUTPUT_ANNOTATION_PATH, index=False)\n",
    "combined_df.to_csv(OUTPUT_ANNOTATION_PATH, index=False)"
   ]
  },
  {
   "cell_type": "code",
   "execution_count": null,
   "metadata": {},
   "outputs": [],
   "source": []
  }
 ],
 "metadata": {
  "kernelspec": {
   "display_name": "pytorch_env",
   "language": "python",
   "name": "python3"
  },
  "language_info": {
   "codemirror_mode": {
    "name": "ipython",
    "version": 3
   },
   "file_extension": ".py",
   "mimetype": "text/x-python",
   "name": "python",
   "nbconvert_exporter": "python",
   "pygments_lexer": "ipython3",
   "version": "3.12.3"
  }
 },
 "nbformat": 4,
 "nbformat_minor": 2
}
