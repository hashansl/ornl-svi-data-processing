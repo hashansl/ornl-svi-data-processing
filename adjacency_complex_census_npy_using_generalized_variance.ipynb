{
 "cells": [
  {
   "cell_type": "code",
   "execution_count": null,
   "metadata": {},
   "outputs": [],
   "source": []
  },
  {
   "cell_type": "markdown",
   "metadata": {},
   "source": []
  },
  {
   "cell_type": "code",
   "execution_count": 2,
   "metadata": {},
   "outputs": [],
   "source": [
    "# Import libraries\n",
    "import os\n",
    "import warnings\n",
    "import pandas as pd\n",
    "import numpy as np\n",
    "import matplotlib.pyplot as plt\n",
    "import geopandas as gpd\n",
    "import gudhi\n",
    "from tqdm import tqdm\n",
    "from persim import PersistenceImager\n",
    "import invr\n",
    "import matplotlib as mpl\n",
    "\n",
    "from pysal.lib import weights\n",
    "from pysal.lib import weights\n",
    "\n",
    "\n",
    "from scipy.sparse import csr_matrix\n",
    "from scipy.sparse.csgraph import connected_components\n",
    "\n",
    "from scipy.linalg import solve\n",
    "from scipy.sparse.linalg import spsolve\n",
    "import numpy as np\n",
    "\n",
    "import scipy as sp\n",
    "\n",
    "# Ignore FutureWarnings\n",
    "warnings.simplefilter(action='ignore', category=FutureWarning)\n",
    "\n",
    "# Matplotlib default settings\n",
    "mpl.rcParams.update(mpl.rcParamsDefault)"
   ]
  },
  {
   "cell_type": "code",
   "execution_count": 2,
   "metadata": {},
   "outputs": [],
   "source": [
    "def generate_adjacent_counties(dataframe, variable_name):\n",
    "    \"\"\"Generate adjacent counties based on given dataframe and variable.\"\"\"\n",
    "    filtered_df = dataframe\n",
    "    adjacent_counties = gpd.sjoin(filtered_df, filtered_df, predicate='intersects', how='left')\n",
    "    adjacent_counties = adjacent_counties.query('sortedID_left != sortedID_right')\n",
    "    adjacent_counties = adjacent_counties.groupby('sortedID_left')['sortedID_right'].apply(list).reset_index()\n",
    "    adjacent_counties.rename(columns={'sortedID_left': 'county', 'sortedID_right': 'adjacent'}, inplace=True)\n",
    "    adjacencies_list = adjacent_counties['adjacent'].tolist()\n",
    "    county_list = adjacent_counties['county'].tolist()\n",
    "    merged_df = pd.merge(adjacent_counties, dataframe, left_on='county', right_on='sortedID', how='left')\n",
    "    merged_df = gpd.GeoDataFrame(merged_df, geometry='geometry')\n",
    "    return adjacencies_list, merged_df, county_list"
   ]
  },
  {
   "cell_type": "code",
   "execution_count": 3,
   "metadata": {},
   "outputs": [],
   "source": [
    "def form_simplicial_complex(adjacent_county_list, county_list):\n",
    "    \"\"\"Form a simplicial complex based on adjacent counties.\"\"\"\n",
    "    max_dimension = 3\n",
    "    V = invr.incremental_vr([], adjacent_county_list, max_dimension, county_list)\n",
    "    return V"
   ]
  },
  {
   "cell_type": "code",
   "execution_count": 4,
   "metadata": {},
   "outputs": [],
   "source": [
    "def create_variable_folders(base_path, variables):\n",
    "    \"\"\"Create folders for each variable.\"\"\"\n",
    "    for variable in variables:\n",
    "        os.makedirs(os.path.join(base_path, variable), exist_ok=True)\n",
    "    print('Done creating folders for each variable')\n"
   ]
  },
  {
   "cell_type": "code",
   "execution_count": 60,
   "metadata": {},
   "outputs": [],
   "source": [
    "def generate_generalized_variance(simplices,data_frame, variable_name):\n",
    "\n",
    "    selected_census = []\n",
    "\n",
    "    for set in simplices:\n",
    "        if len(set) == 2 or len(set) == 3:\n",
    "            for vertice in set:\n",
    "                if vertice not in selected_census:\n",
    "                    selected_census.append(vertice)\n",
    "    \n",
    "    # print(f'selected census: {selected_census}')\n",
    "\n",
    "    # print(data_frame.head(3))\n",
    "    # print(data_frame.columns)\n",
    "\n",
    "    filtered_census_df = data_frame.loc[data_frame[\"sortedID\"].isin(selected_census)]\n",
    "\n",
    "    # lattice stored in a geo-table\n",
    "    wq = weights.contiguity.Queen.from_dataframe(filtered_census_df)\n",
    "    neighbors_q = wq.neighbors\n",
    "\n",
    "    QTemp = pd.DataFrame(*wq.full()).astype(int)\n",
    "    QTemp = QTemp.multiply(-1)\n",
    "\n",
    "    QTemp.index = filtered_census_df[\"sortedID\"].values\n",
    "    QTemp.columns = filtered_census_df[\"sortedID\"].values\n",
    "\n",
    "    # for each row in the fullMatrix dataframe sum the values in the row and take the absolute value and store in the diagonal\n",
    "    for i in QTemp.index:\n",
    "        QTemp.loc[i,i] = abs(QTemp.loc[i].sum())\n",
    "\n",
    "    # print(neighbors_q)\n",
    "    # print(filtered_census_df.head(3))\n",
    "    # print(QTemp)\n",
    "\n",
    "\n",
    "    # Marginal variance code -Multiple clusters\n",
    "\n",
    "    # transform df to numpy array\n",
    "    Q = QTemp.to_numpy()\n",
    "\n",
    "    graph = csr_matrix(QTemp)\n",
    "    n_components, labels = connected_components(csgraph=graph, directed=False, return_labels=True)\n",
    "\n",
    "    print(f\"Number of connected components: {n_components}\")\n",
    "\n",
    "    # get the simplices for each component(network)\n",
    "    component_census = {i: [] for i in range(n_components)}  # Initialize a dictionary for simplices per component\n",
    "    component_simplices = {i: [] for i in range(n_components)}  # Initialize a dictionary for simplices per component\n",
    "\n",
    "    # Get the index of the selected census(this way missing census(not selected) will not be included)\n",
    "    id = QTemp.index.to_list()\n",
    "\n",
    "    # if there are multiple components in the graph. Assign the simplices to the corresponding component\n",
    "    if n_components== 1:\n",
    "\n",
    "        for label, idx in zip(labels, id):\n",
    "            component_census[label].append(idx)\n",
    "\n",
    "    elif n_components>1:\n",
    "\n",
    "        for label, idx in zip(labels, id):\n",
    "            component_census[label].append(idx)\n",
    "        \n",
    "        for simplex in simplices:\n",
    "            if len(simplex) == 2 or len(simplex) == 3:\n",
    "                # take the first vertice in the simplex and check component census it belongs to\n",
    "                vertice = simplex[0]\n",
    "                for component in component_census:\n",
    "                    \n",
    "                    if vertice in component_census[component]:\n",
    "                        # print(f'vertice {vertice} belongs to component {component}')\n",
    "                        component_simplices[component].append(simplex)\n",
    "\n",
    "\n",
    "    data_frame[variable_name+'_marginal_variance'] = None #delete this line\n",
    "\n",
    "    # assign generalized variance for each n_component\n",
    "    generalized_variance_dic = {i: [] for i in range(n_components)}  # Initialize a dictionary for each n_component\n",
    "\n",
    "    for k in range(n_components):\n",
    "        # print(k)\n",
    "\n",
    "        # get the length of the labels array where the value is equal to i\n",
    "        # print(len(labels[labels == k]))\n",
    "\n",
    "        if len(labels[labels==k])==1:\n",
    "\n",
    "            # get the index of the label\n",
    "            index = np.where(labels==k)[0][0]\n",
    "            # print(index)\n",
    "\n",
    "            #this part is not written becase: does not exists\n",
    "\n",
    "            # # get the index from Q_df\n",
    "            # print(Q_df.index[index])\n",
    "\n",
    "            # print(f\"Region {k} is an isolated region\")\n",
    "            # print(f\"Marginal Variances with FIPS: {list(zip(Qmatrix[0].index, marginal_variances))}\")\n",
    "            generalized_variance_dic[k] = 1  #CHECK THIS VALUE\n",
    "        else:\n",
    "            # print(f\"Region {k} is a connected region\")\n",
    "\n",
    "            # get the location index to an array \n",
    "            index = np.where(labels == k)\n",
    "            # print(index)\n",
    "\n",
    "            # Extract the submatrix\n",
    "            QQ = Q[np.ix_(index[0], index[0])]\n",
    "\n",
    "            # print(QQ)\n",
    "\n",
    "            n = QQ.shape[0]\n",
    "\n",
    "            \n",
    "            Q_jitter = QQ + sp.sparse.diags(np.ones(n)) * max(QQ.diagonal()) * np.sqrt(\n",
    "\n",
    "                np.finfo(np.float64).eps\n",
    "\n",
    "            )\n",
    "\n",
    "\n",
    "            # inverse of precision (Q) is cov\n",
    "\n",
    "            Q_perturbed = sp.sparse.csc_array(Q_jitter)\n",
    "\n",
    "            b = sp.sparse.identity(n, format='csc')\n",
    "\n",
    "            sigma = spsolve(Q_perturbed, b)\n",
    "\n",
    "\n",
    "            # V \\in Null(Q)\n",
    "\n",
    "            V = np.ones(n)  # from pg. 6\n",
    "\n",
    "            W = sigma @ V.T  # \\Sigma * B in 3.17\n",
    "\n",
    "            Q_inv = sigma - np.outer(W * solve(V @ W, np.ones(1)), W.T)\n",
    "\n",
    "            # grabbing diag of cov gives var and\n",
    "\n",
    "            # arithmetic mean in log-space becomes geometric mean after exp\n",
    "\n",
    "            generalized_variance = np.exp(np.mean(np.log(np.diag(Q_inv))))  # equation in the paper use daba as 1\n",
    "            # generalized_variance = np.exp(np.sum(np.log(np.diag(Q_inv))) / n) #same as above\n",
    "\n",
    "            generalized_variance_dic[k] = generalized_variance\n",
    "\n",
    "            # print(f\"Generalized Variance: {generalized_variance}\")\n",
    "\n",
    "    return generalized_variance_dic, component_census, component_simplices"
   ]
  },
  {
   "cell_type": "code",
   "execution_count": null,
   "metadata": {},
   "outputs": [],
   "source": [
    "def process_state(state, selected_variables, selected_variables_with_censusinfo, base_path, PERSISTENCE_IMAGE_PARAMS, INFINITY):\n",
    "    \"\"\"Process data for a given state.\"\"\"\n",
    "    svi_od_path = os.path.join(data_path, state, state + '.shp')\n",
    "    svi_od = gpd.read_file(svi_od_path)\n",
    "    # # for variable in selected_variables:\n",
    "    #     # svi_od = svi_od[svi_od[variable] != -999]\n",
    "\n",
    "        \n",
    "    svi_od_filtered_state = svi_od[selected_variables_with_censusinfo].reset_index(drop=True)\n",
    "\n",
    "    # Get the unique counties\n",
    "    unique_county_stcnty = svi_od_filtered_state['STCNTY'].unique()\n",
    "\n",
    "    for county_stcnty in unique_county_stcnty:\n",
    "        # Filter the dataframe to include only the current county\n",
    "        county_svi_df = svi_od_filtered_state[svi_od_filtered_state['STCNTY'] == county_stcnty]\n",
    "\n",
    "        # print(\"County\")\n",
    "        # print(county_svi_df)\n",
    "    \n",
    "        for variable_name in selected_variables:\n",
    "            df_one_variable = county_svi_df[['STCNTY','FIPS', variable_name, 'geometry']]\n",
    "            df_one_variable = df_one_variable.sort_values(by=variable_name)\n",
    "            df_one_variable['sortedID'] = range(len(df_one_variable))\n",
    "            df_one_variable = gpd.GeoDataFrame(df_one_variable, geometry='geometry')\n",
    "            df_one_variable.crs = \"EPSG:3395\"\n",
    "\n",
    "            adjacencies_list, adjacent_counties_df, county_list = generate_adjacent_counties(df_one_variable, variable_name)\n",
    "            adjacent_counties_dict = dict(zip(adjacent_counties_df['county'], adjacent_counties_df['adjacent']))\n",
    "            county_list = adjacent_counties_df['county'].tolist()\n",
    "            simplices = form_simplicial_complex(adjacent_counties_dict, county_list)\n",
    "\n",
    "            print(f'length of simplices: {len(simplices)}')\n",
    "\n",
    "            if len(simplices)==0:\n",
    "                print(f'No simplices for {variable_name} in {county_stcnty}')\n",
    "                print(df_one_variable)\n",
    "            else:\n",
    "                print(f'State: {state}')\n",
    "                print(f'County: {county_stcnty}')\n",
    "                print(f'County: {variable_name}')\n",
    "\n",
    "                # print(\"Simplices\",simplices)\n",
    "\n",
    "                generalized_variance = generate_generalized_variance(simplices=simplices,data_frame=df_one_variable, variable_name=variable_name)\n",
    "\n",
    "                print(f'Generalized Variance: {generalized_variance}\\n')\n",
    "\n",
    "                # print(f'Generalized Variance: {generalized_variance}')\n",
    "\n",
    "                # Generate persistence images based on the generalized variance\n",
    "                # generate_persistence_images(simplices, df_one_variable, variable_name, county_stcnty, base_path, PERSISTENCE_IMAGE_PARAMS, generalized_variance)\n",
    "\n",
    "            # break\n",
    "\n",
    "        # break"
   ]
  },
  {
   "cell_type": "code",
   "execution_count": 55,
   "metadata": {},
   "outputs": [],
   "source": [
    "def generate_persistence_images(simplices, df_one_variable, variable_name, county_stcnty, base_path, PERSISTENCE_IMAGE_PARAMS, generalized_variance_dic, component_census, component_simplices):\n",
    "    \"\"\"Generate persistence images.\"\"\"\n",
    "\n",
    "    if len(generalized_variance_dic)==1:\n",
    "\n",
    "        generalized_variance = list(generalized_variance_dic.values())[0]\n",
    "\n",
    "        st = gudhi.SimplexTree()\n",
    "        st.set_dimension(2)\n",
    "\n",
    "        for simplex in simplices:\n",
    "            if len(simplex) == 1:\n",
    "                st.insert([simplex[0]], filtration=0.0)\n",
    "\n",
    "        for simplex in simplices:\n",
    "            if len(simplex) == 2:\n",
    "                last_simplex = simplex[-1]\n",
    "                filtration_value = df_one_variable.loc[df_one_variable['sortedID'] == last_simplex, variable_name].values[0]\n",
    "                st.insert(simplex, filtration=filtration_value)\n",
    "\n",
    "        for simplex in simplices:\n",
    "            if len(simplex) == 3:\n",
    "                last_simplex = simplex[-1]\n",
    "                filtration_value = df_one_variable.loc[df_one_variable['sortedID'] == last_simplex, variable_name].values[0]\n",
    "                st.insert(simplex, filtration=filtration_value)\n",
    "\n",
    "        st.compute_persistence()\n",
    "        persistence = st.persistence()\n",
    "\n",
    "        intervals_dim0 = st.persistence_intervals_in_dimension(0)\n",
    "        intervals_dim1 = st.persistence_intervals_in_dimension(1)\n",
    "        pdgms = [[birth, death] for birth, death in intervals_dim1 if death < np.inf]\n",
    "\n",
    "        # add interval dim 0  to the pdgms\n",
    "        for birth, death in intervals_dim0:\n",
    "            if death < np.inf:\n",
    "                pdgms.append([birth, death])\n",
    "            # elif death == np.inf:\n",
    "                # pdgms.append([birth, INFINITY])\n",
    "            \n",
    "\n",
    "        save_path = os.path.join(base_path, variable_name, county_stcnty)\n",
    "\n",
    "        if len(pdgms) > 0:\n",
    "            \n",
    "            # print(f'Processing {variable_name} for {county_stcnty}')\n",
    "            # print(f'Number of persistence diagrams: {len(pdgms)}')\n",
    "            # print(intervals_dim1)\n",
    "            # for i in range(len(intervals_dim1)):\n",
    "            #     if np.isinf(pdgms[i][1]):\n",
    "            #         pdgms[i][1] = 1\n",
    "            #     if np.isinf(pdgms[i][0]):\n",
    "            #         pdgms[i][0] = 1\n",
    "\n",
    "            pimgr = PersistenceImager(pixel_size=0.01)\n",
    "            pimgr.fit(pdgms)\n",
    "\n",
    "            pimgr.pixel_size = PERSISTENCE_IMAGE_PARAMS['pixel_size']\n",
    "            pimgr.birth_range = PERSISTENCE_IMAGE_PARAMS['birth_range']\n",
    "            pimgr.pers_range = PERSISTENCE_IMAGE_PARAMS['pers_range']\n",
    "            # pimgr.kernel_params = PERSISTENCE_IMAGE_PARAMS['kernel_params']\n",
    "            pimgr.kernel_params =  {'sigma': generalized_variance}\n",
    "\n",
    "\n",
    "            pimgs = pimgr.transform(pdgms)\n",
    "            pimgs = np.rot90(pimgs, k=1) \n",
    "\n",
    "            # np.save(save_path, pimgs)\n",
    "\n",
    "            plt.figure(figsize=(2.4, 2.4))\n",
    "            plt.imshow(pimgs, cmap='viridis')  # Assuming 'viridis' colormap, change as needed\n",
    "            plt.axis('off')  # Turn off axis\n",
    "            plt.subplots_adjust(left=0, right=1, top=1, bottom=0)  # Adjust subplot parameters to remove borders\n",
    "            \n",
    "            plt.savefig(f'{base_path}/{variable_name}/{county_stcnty}.png')\n",
    "            plt.close()\n",
    "    elif len(generalized_variance_dic)>1:\n",
    "\n",
    "        # each sub network will generate a separate persistence image\n",
    "        per_images_per_subcomponent = []\n",
    "\n",
    "        for key in component_census.keys():\n",
    "            # print(key)\n",
    "            \n",
    "            generalized_variance = generalized_variance_dic[key]\n",
    "            simplices_sub = component_simplices[key]\n",
    "            census_sub = component_census[key]\n",
    "            # print(f'Generalized Variance: {generalized_variance}')\n",
    "            # print(f'Simplices: {simplices_sub}')\n",
    "            # print(f'Census: {census_sub}')\n",
    "\n",
    "\n",
    "            # Generate persistence images based on the generalized variance\n",
    "\n",
    "            st = gudhi.SimplexTree()\n",
    "            st.set_dimension(2)\n",
    "\n",
    "            for simplex in census_sub:\n",
    "                # print(simplex)\n",
    "            #     # if len(simplex) == 1:\n",
    "                st.insert([simplex], filtration=0.0)\n",
    "\n",
    "            for simplex in simplices_sub:\n",
    "                if len(simplex) == 2:\n",
    "                    last_simplex = simplex[-1]\n",
    "                    filtration_value = df_one_variable.loc[df_one_variable['sortedID'] == last_simplex, variable_name].values[0]\n",
    "                    st.insert(simplex, filtration=filtration_value)\n",
    "\n",
    "            for simplex in simplices_sub:\n",
    "                if len(simplex) == 3:\n",
    "                    last_simplex = simplex[-1]\n",
    "                    filtration_value = df_one_variable.loc[df_one_variable['sortedID'] == last_simplex, variable_name].values[0]\n",
    "                    st.insert(simplex, filtration=filtration_value)\n",
    "\n",
    "            st.compute_persistence()\n",
    "            persistence = st.persistence()\n",
    "\n",
    "            intervals_dim0 = st.persistence_intervals_in_dimension(0)\n",
    "            intervals_dim1 = st.persistence_intervals_in_dimension(1)\n",
    "            pdgms = [[birth, death] for birth, death in intervals_dim1 if death < np.inf]\n",
    "\n",
    "            # add interval dim 0  to the pdgms\n",
    "            for birth, death in intervals_dim0:\n",
    "                if death < np.inf:\n",
    "                    pdgms.append([birth, death])\n",
    "                # elif death == np.inf:\n",
    "                    # pdgms.append([birth, INFINITY])\n",
    "                \n",
    "\n",
    "            # save_path = os.path.join(base_path, variable_name, county_stcnty)\n",
    "\n",
    "            if len(pdgms) > 0:\n",
    "                \n",
    "                # print(f'Processing {variable_name} for {county_stcnty}')\n",
    "                # print(f'Number of persistence diagrams: {len(pdgms)}')\n",
    "                # print(intervals_dim1)\n",
    "                # for i in range(len(intervals_dim1)):\n",
    "                #     if np.isinf(pdgms[i][1]):\n",
    "                #         pdgms[i][1] = 1\n",
    "                #     if np.isinf(pdgms[i][0]):\n",
    "                #         pdgms[i][0] = 1\n",
    "\n",
    "                pimgr = PersistenceImager(pixel_size=0.01)\n",
    "                pimgr.fit(pdgms)\n",
    "\n",
    "                pimgr.pixel_size = PERSISTENCE_IMAGE_PARAMS['pixel_size']\n",
    "                pimgr.birth_range = PERSISTENCE_IMAGE_PARAMS['birth_range']\n",
    "                pimgr.pers_range = PERSISTENCE_IMAGE_PARAMS['pers_range']\n",
    "                # pimgr.kernel_params = PERSISTENCE_IMAGE_PARAMS['kernel_params']\n",
    "                pimgr.kernel_params =  {'sigma': generalized_variance}\n",
    "\n",
    "                pimgs = pimgr.transform(pdgms)\n",
    "                pimgs = np.rot90(pimgs, k=1) \n",
    "                per_images_per_subcomponent.append(pimgs)\n",
    "\n",
    "        final_pimgr = np.sum(per_images_per_subcomponent, axis=0)\n",
    "        print(final_pimgr.shape)\n",
    "\n",
    "        plt.figure(figsize=(2.4, 2.4))\n",
    "        plt.imshow(final_pimgr, cmap='viridis')  # Assuming 'viridis' colormap, change as needed\n",
    "        plt.axis('off')  # Turn off axis\n",
    "        plt.subplots_adjust(left=0, right=1, top=1, bottom=0)  # Adjust subplot parameters to remove borders\n",
    "        \n",
    "        plt.show()\n"
   ]
  },
  {
   "cell_type": "code",
   "execution_count": null,
   "metadata": {},
   "outputs": [],
   "source": [
    "# length of simplices: 79\n",
    "# State: FL\n",
    "# County: 12087\n",
    "# County: EP_POV\n",
    "# Number of connected components: 3"
   ]
  },
  {
   "cell_type": "code",
   "execution_count": null,
   "metadata": {},
   "outputs": [],
   "source": [
    "# State: NC\n",
    "# County: 37055\n",
    "# County: EP_GROUPQ\n",
    "# Number of connected components: 2\n",
    "# Generalized Variance: {0: 0.46338322996371606, 1: 0.25}"
   ]
  },
  {
   "cell_type": "code",
   "execution_count": 8,
   "metadata": {},
   "outputs": [],
   "source": [
    "data_path = '/home/h6x/git_projects/ornl-svi-data-processing/processed_data/SVI/SVI2018_MIN_MAX_SCALED_MISSING_REMOVED'\n",
    "selected_variables = [\n",
    "         'EP_POV','EP_UNEMP', 'EP_NOHSDP', 'EP_UNINSUR', 'EP_AGE65', 'EP_AGE17', 'EP_DISABL', \n",
    "        'EP_SNGPNT', 'EP_LIMENG', 'EP_MINRTY', 'EP_MUNIT', 'EP_MOBILE', 'EP_CROWD', 'EP_NOVEH', 'EP_GROUPQ'\n",
    "    ]"
   ]
  },
  {
   "cell_type": "code",
   "execution_count": 9,
   "metadata": {},
   "outputs": [],
   "source": [
    "selected_variables_with_censusinfo = ['FIPS', 'STCNTY'] + selected_variables + ['geometry']"
   ]
  },
  {
   "cell_type": "code",
   "execution_count": 10,
   "metadata": {},
   "outputs": [],
   "source": [
    "state = 'NC'"
   ]
  },
  {
   "cell_type": "code",
   "execution_count": 11,
   "metadata": {},
   "outputs": [],
   "source": [
    "svi_od_path = os.path.join(data_path, state, state + '.shp')\n",
    "svi_od = gpd.read_file(svi_od_path)"
   ]
  },
  {
   "cell_type": "code",
   "execution_count": 12,
   "metadata": {},
   "outputs": [],
   "source": [
    "county_stcnty = '37055'"
   ]
  },
  {
   "cell_type": "code",
   "execution_count": 13,
   "metadata": {},
   "outputs": [],
   "source": [
    "svi_od_filtered_state = svi_od[selected_variables_with_censusinfo].reset_index(drop=True)"
   ]
  },
  {
   "cell_type": "code",
   "execution_count": 14,
   "metadata": {},
   "outputs": [],
   "source": [
    "# Filter the dataframe to include only the current county\n",
    "county_svi_df = svi_od_filtered_state[svi_od_filtered_state['STCNTY'] == county_stcnty]"
   ]
  },
  {
   "cell_type": "code",
   "execution_count": 15,
   "metadata": {},
   "outputs": [
    {
     "data": {
      "text/html": [
       "<div>\n",
       "<style scoped>\n",
       "    .dataframe tbody tr th:only-of-type {\n",
       "        vertical-align: middle;\n",
       "    }\n",
       "\n",
       "    .dataframe tbody tr th {\n",
       "        vertical-align: top;\n",
       "    }\n",
       "\n",
       "    .dataframe thead th {\n",
       "        text-align: right;\n",
       "    }\n",
       "</style>\n",
       "<table border=\"1\" class=\"dataframe\">\n",
       "  <thead>\n",
       "    <tr style=\"text-align: right;\">\n",
       "      <th></th>\n",
       "      <th>FIPS</th>\n",
       "      <th>STCNTY</th>\n",
       "      <th>EP_POV</th>\n",
       "      <th>EP_UNEMP</th>\n",
       "      <th>EP_NOHSDP</th>\n",
       "      <th>EP_UNINSUR</th>\n",
       "      <th>EP_AGE65</th>\n",
       "      <th>EP_AGE17</th>\n",
       "      <th>EP_DISABL</th>\n",
       "      <th>EP_SNGPNT</th>\n",
       "      <th>EP_LIMENG</th>\n",
       "      <th>EP_MINRTY</th>\n",
       "      <th>EP_MUNIT</th>\n",
       "      <th>EP_MOBILE</th>\n",
       "      <th>EP_CROWD</th>\n",
       "      <th>EP_NOVEH</th>\n",
       "      <th>EP_GROUPQ</th>\n",
       "      <th>geometry</th>\n",
       "    </tr>\n",
       "  </thead>\n",
       "  <tbody>\n",
       "    <tr>\n",
       "      <th>231</th>\n",
       "      <td>37055970101</td>\n",
       "      <td>37055</td>\n",
       "      <td>0.048</td>\n",
       "      <td>0.017</td>\n",
       "      <td>0.029677</td>\n",
       "      <td>0.042</td>\n",
       "      <td>0.396685</td>\n",
       "      <td>0.250704</td>\n",
       "      <td>0.132546</td>\n",
       "      <td>0.032</td>\n",
       "      <td>0.000000</td>\n",
       "      <td>0.064</td>\n",
       "      <td>0.051</td>\n",
       "      <td>0.010</td>\n",
       "      <td>0.006</td>\n",
       "      <td>0.006</td>\n",
       "      <td>0.000000</td>\n",
       "      <td>POLYGON ((-75.79544 36.22711, -75.77707 36.230...</td>\n",
       "    </tr>\n",
       "    <tr>\n",
       "      <th>232</th>\n",
       "      <td>37055970102</td>\n",
       "      <td>37055</td>\n",
       "      <td>0.040</td>\n",
       "      <td>0.069</td>\n",
       "      <td>0.033548</td>\n",
       "      <td>0.091</td>\n",
       "      <td>0.216575</td>\n",
       "      <td>0.256338</td>\n",
       "      <td>0.149606</td>\n",
       "      <td>0.062</td>\n",
       "      <td>0.004594</td>\n",
       "      <td>0.024</td>\n",
       "      <td>0.021</td>\n",
       "      <td>0.030</td>\n",
       "      <td>0.023</td>\n",
       "      <td>0.041</td>\n",
       "      <td>0.000000</td>\n",
       "      <td>POLYGON ((-75.74282 36.09292, -75.73287 36.095...</td>\n",
       "    </tr>\n",
       "    <tr>\n",
       "      <th>233</th>\n",
       "      <td>37055970200</td>\n",
       "      <td>37055</td>\n",
       "      <td>0.106</td>\n",
       "      <td>0.084</td>\n",
       "      <td>0.107097</td>\n",
       "      <td>0.198</td>\n",
       "      <td>0.161326</td>\n",
       "      <td>0.219718</td>\n",
       "      <td>0.128609</td>\n",
       "      <td>0.023</td>\n",
       "      <td>0.079632</td>\n",
       "      <td>0.081</td>\n",
       "      <td>0.039</td>\n",
       "      <td>0.034</td>\n",
       "      <td>0.000</td>\n",
       "      <td>0.023</td>\n",
       "      <td>0.000000</td>\n",
       "      <td>POLYGON ((-75.70794 36.04744, -75.69384 36.054...</td>\n",
       "    </tr>\n",
       "    <tr>\n",
       "      <th>234</th>\n",
       "      <td>37055970300</td>\n",
       "      <td>37055</td>\n",
       "      <td>0.096</td>\n",
       "      <td>0.032</td>\n",
       "      <td>0.061935</td>\n",
       "      <td>0.187</td>\n",
       "      <td>0.179006</td>\n",
       "      <td>0.305634</td>\n",
       "      <td>0.124672</td>\n",
       "      <td>0.095</td>\n",
       "      <td>0.059724</td>\n",
       "      <td>0.129</td>\n",
       "      <td>0.054</td>\n",
       "      <td>0.086</td>\n",
       "      <td>0.047</td>\n",
       "      <td>0.010</td>\n",
       "      <td>0.000000</td>\n",
       "      <td>POLYGON ((-75.72983 36.00729, -75.72708 36.010...</td>\n",
       "    </tr>\n",
       "    <tr>\n",
       "      <th>235</th>\n",
       "      <td>37055970400</td>\n",
       "      <td>37055</td>\n",
       "      <td>0.083</td>\n",
       "      <td>0.027</td>\n",
       "      <td>0.025806</td>\n",
       "      <td>0.108</td>\n",
       "      <td>0.233149</td>\n",
       "      <td>0.230986</td>\n",
       "      <td>0.116798</td>\n",
       "      <td>0.117</td>\n",
       "      <td>0.004594</td>\n",
       "      <td>0.097</td>\n",
       "      <td>0.040</td>\n",
       "      <td>0.012</td>\n",
       "      <td>0.004</td>\n",
       "      <td>0.055</td>\n",
       "      <td>0.028028</td>\n",
       "      <td>POLYGON ((-75.67020 35.98438, -75.64860 35.993...</td>\n",
       "    </tr>\n",
       "    <tr>\n",
       "      <th>236</th>\n",
       "      <td>37055970502</td>\n",
       "      <td>37055</td>\n",
       "      <td>0.187</td>\n",
       "      <td>0.119</td>\n",
       "      <td>0.149677</td>\n",
       "      <td>0.171</td>\n",
       "      <td>0.246409</td>\n",
       "      <td>0.250704</td>\n",
       "      <td>0.275591</td>\n",
       "      <td>0.086</td>\n",
       "      <td>0.015314</td>\n",
       "      <td>0.093</td>\n",
       "      <td>0.040</td>\n",
       "      <td>0.058</td>\n",
       "      <td>0.044</td>\n",
       "      <td>0.068</td>\n",
       "      <td>0.003003</td>\n",
       "      <td>POLYGON ((-75.75172 35.19259, -75.73950 35.195...</td>\n",
       "    </tr>\n",
       "    <tr>\n",
       "      <th>237</th>\n",
       "      <td>37055970601</td>\n",
       "      <td>37055</td>\n",
       "      <td>0.052</td>\n",
       "      <td>0.049</td>\n",
       "      <td>0.118710</td>\n",
       "      <td>0.139</td>\n",
       "      <td>0.200000</td>\n",
       "      <td>0.295775</td>\n",
       "      <td>0.241470</td>\n",
       "      <td>0.047</td>\n",
       "      <td>0.027565</td>\n",
       "      <td>0.231</td>\n",
       "      <td>0.086</td>\n",
       "      <td>0.098</td>\n",
       "      <td>0.038</td>\n",
       "      <td>0.040</td>\n",
       "      <td>0.011011</td>\n",
       "      <td>POLYGON ((-75.72681 35.93584, -75.71827 35.939...</td>\n",
       "    </tr>\n",
       "    <tr>\n",
       "      <th>1432</th>\n",
       "      <td>37055970501</td>\n",
       "      <td>37055</td>\n",
       "      <td>0.067</td>\n",
       "      <td>0.015</td>\n",
       "      <td>0.211613</td>\n",
       "      <td>0.236</td>\n",
       "      <td>0.194475</td>\n",
       "      <td>0.290141</td>\n",
       "      <td>0.240157</td>\n",
       "      <td>0.006</td>\n",
       "      <td>0.000000</td>\n",
       "      <td>0.171</td>\n",
       "      <td>0.000</td>\n",
       "      <td>0.283</td>\n",
       "      <td>0.069</td>\n",
       "      <td>0.023</td>\n",
       "      <td>0.000000</td>\n",
       "      <td>POLYGON ((-76.01302 35.67007, -76.00928 35.675...</td>\n",
       "    </tr>\n",
       "    <tr>\n",
       "      <th>1433</th>\n",
       "      <td>37055970602</td>\n",
       "      <td>37055</td>\n",
       "      <td>0.050</td>\n",
       "      <td>0.014</td>\n",
       "      <td>0.129032</td>\n",
       "      <td>0.232</td>\n",
       "      <td>0.186740</td>\n",
       "      <td>0.361972</td>\n",
       "      <td>0.216535</td>\n",
       "      <td>0.065</td>\n",
       "      <td>0.045942</td>\n",
       "      <td>0.187</td>\n",
       "      <td>0.022</td>\n",
       "      <td>0.216</td>\n",
       "      <td>0.019</td>\n",
       "      <td>0.016</td>\n",
       "      <td>0.000000</td>\n",
       "      <td>POLYGON ((-75.67590 35.88298, -75.67171 35.884...</td>\n",
       "    </tr>\n",
       "  </tbody>\n",
       "</table>\n",
       "</div>"
      ],
      "text/plain": [
       "             FIPS STCNTY  EP_POV  EP_UNEMP  EP_NOHSDP  EP_UNINSUR  EP_AGE65  \\\n",
       "231   37055970101  37055   0.048     0.017   0.029677       0.042  0.396685   \n",
       "232   37055970102  37055   0.040     0.069   0.033548       0.091  0.216575   \n",
       "233   37055970200  37055   0.106     0.084   0.107097       0.198  0.161326   \n",
       "234   37055970300  37055   0.096     0.032   0.061935       0.187  0.179006   \n",
       "235   37055970400  37055   0.083     0.027   0.025806       0.108  0.233149   \n",
       "236   37055970502  37055   0.187     0.119   0.149677       0.171  0.246409   \n",
       "237   37055970601  37055   0.052     0.049   0.118710       0.139  0.200000   \n",
       "1432  37055970501  37055   0.067     0.015   0.211613       0.236  0.194475   \n",
       "1433  37055970602  37055   0.050     0.014   0.129032       0.232  0.186740   \n",
       "\n",
       "      EP_AGE17  EP_DISABL  EP_SNGPNT  EP_LIMENG  EP_MINRTY  EP_MUNIT  \\\n",
       "231   0.250704   0.132546      0.032   0.000000      0.064     0.051   \n",
       "232   0.256338   0.149606      0.062   0.004594      0.024     0.021   \n",
       "233   0.219718   0.128609      0.023   0.079632      0.081     0.039   \n",
       "234   0.305634   0.124672      0.095   0.059724      0.129     0.054   \n",
       "235   0.230986   0.116798      0.117   0.004594      0.097     0.040   \n",
       "236   0.250704   0.275591      0.086   0.015314      0.093     0.040   \n",
       "237   0.295775   0.241470      0.047   0.027565      0.231     0.086   \n",
       "1432  0.290141   0.240157      0.006   0.000000      0.171     0.000   \n",
       "1433  0.361972   0.216535      0.065   0.045942      0.187     0.022   \n",
       "\n",
       "      EP_MOBILE  EP_CROWD  EP_NOVEH  EP_GROUPQ  \\\n",
       "231       0.010     0.006     0.006   0.000000   \n",
       "232       0.030     0.023     0.041   0.000000   \n",
       "233       0.034     0.000     0.023   0.000000   \n",
       "234       0.086     0.047     0.010   0.000000   \n",
       "235       0.012     0.004     0.055   0.028028   \n",
       "236       0.058     0.044     0.068   0.003003   \n",
       "237       0.098     0.038     0.040   0.011011   \n",
       "1432      0.283     0.069     0.023   0.000000   \n",
       "1433      0.216     0.019     0.016   0.000000   \n",
       "\n",
       "                                               geometry  \n",
       "231   POLYGON ((-75.79544 36.22711, -75.77707 36.230...  \n",
       "232   POLYGON ((-75.74282 36.09292, -75.73287 36.095...  \n",
       "233   POLYGON ((-75.70794 36.04744, -75.69384 36.054...  \n",
       "234   POLYGON ((-75.72983 36.00729, -75.72708 36.010...  \n",
       "235   POLYGON ((-75.67020 35.98438, -75.64860 35.993...  \n",
       "236   POLYGON ((-75.75172 35.19259, -75.73950 35.195...  \n",
       "237   POLYGON ((-75.72681 35.93584, -75.71827 35.939...  \n",
       "1432  POLYGON ((-76.01302 35.67007, -76.00928 35.675...  \n",
       "1433  POLYGON ((-75.67590 35.88298, -75.67171 35.884...  "
      ]
     },
     "execution_count": 15,
     "metadata": {},
     "output_type": "execute_result"
    }
   ],
   "source": [
    "county_svi_df"
   ]
  },
  {
   "cell_type": "code",
   "execution_count": 40,
   "metadata": {},
   "outputs": [
    {
     "data": {
      "text/plain": [
       "(9, 18)"
      ]
     },
     "execution_count": 40,
     "metadata": {},
     "output_type": "execute_result"
    }
   ],
   "source": [
    "county_svi_df.shape"
   ]
  },
  {
   "cell_type": "code",
   "execution_count": 16,
   "metadata": {},
   "outputs": [],
   "source": [
    "variable_name = 'EP_GROUPQ'"
   ]
  },
  {
   "cell_type": "code",
   "execution_count": 17,
   "metadata": {},
   "outputs": [
    {
     "name": "stdout",
     "output_type": "stream",
     "text": [
      "length of simplices: 14\n"
     ]
    }
   ],
   "source": [
    "df_one_variable = county_svi_df[['STCNTY','FIPS', variable_name, 'geometry']]\n",
    "df_one_variable = df_one_variable.sort_values(by=variable_name)\n",
    "df_one_variable['sortedID'] = range(len(df_one_variable))\n",
    "df_one_variable = gpd.GeoDataFrame(df_one_variable, geometry='geometry')\n",
    "df_one_variable.crs = \"EPSG:3395\"\n",
    "\n",
    "adjacencies_list, adjacent_counties_df, county_list = generate_adjacent_counties(df_one_variable, variable_name)\n",
    "adjacent_counties_dict = dict(zip(adjacent_counties_df['county'], adjacent_counties_df['adjacent']))\n",
    "county_list = adjacent_counties_df['county'].tolist()\n",
    "simplices = form_simplicial_complex(adjacent_counties_dict, county_list)\n",
    "\n",
    "print(f'length of simplices: {len(simplices)}')"
   ]
  },
  {
   "cell_type": "code",
   "execution_count": 44,
   "metadata": {},
   "outputs": [
    {
     "data": {
      "text/plain": [
       "7"
      ]
     },
     "execution_count": 44,
     "metadata": {},
     "output_type": "execute_result"
    }
   ],
   "source": [
    "len(county_list)"
   ]
  },
  {
   "cell_type": "code",
   "execution_count": 45,
   "metadata": {},
   "outputs": [
    {
     "data": {
      "text/plain": [
       "[0, 1, 2, 3, 5, 7, 8]"
      ]
     },
     "execution_count": 45,
     "metadata": {},
     "output_type": "execute_result"
    }
   ],
   "source": [
    "county_list"
   ]
  },
  {
   "cell_type": "code",
   "execution_count": 43,
   "metadata": {},
   "outputs": [
    {
     "data": {
      "text/plain": [
       "{0: [1], 1: [3, 2, 0], 2: [3, 1], 3: [8, 2, 1], 5: [7], 7: [5], 8: [3]}"
      ]
     },
     "execution_count": 43,
     "metadata": {},
     "output_type": "execute_result"
    }
   ],
   "source": [
    "adjacent_counties_dict"
   ]
  },
  {
   "cell_type": "code",
   "execution_count": 41,
   "metadata": {},
   "outputs": [
    {
     "data": {
      "text/html": [
       "<div>\n",
       "<style scoped>\n",
       "    .dataframe tbody tr th:only-of-type {\n",
       "        vertical-align: middle;\n",
       "    }\n",
       "\n",
       "    .dataframe tbody tr th {\n",
       "        vertical-align: top;\n",
       "    }\n",
       "\n",
       "    .dataframe thead th {\n",
       "        text-align: right;\n",
       "    }\n",
       "</style>\n",
       "<table border=\"1\" class=\"dataframe\">\n",
       "  <thead>\n",
       "    <tr style=\"text-align: right;\">\n",
       "      <th></th>\n",
       "      <th>STCNTY</th>\n",
       "      <th>FIPS</th>\n",
       "      <th>EP_GROUPQ</th>\n",
       "      <th>geometry</th>\n",
       "      <th>sortedID</th>\n",
       "    </tr>\n",
       "  </thead>\n",
       "  <tbody>\n",
       "    <tr>\n",
       "      <th>231</th>\n",
       "      <td>37055</td>\n",
       "      <td>37055970101</td>\n",
       "      <td>0.000000</td>\n",
       "      <td>POLYGON ((-75.795 36.227, -75.777 36.231, -75....</td>\n",
       "      <td>0</td>\n",
       "    </tr>\n",
       "    <tr>\n",
       "      <th>232</th>\n",
       "      <td>37055</td>\n",
       "      <td>37055970102</td>\n",
       "      <td>0.000000</td>\n",
       "      <td>POLYGON ((-75.743 36.093, -75.733 36.096, -75....</td>\n",
       "      <td>1</td>\n",
       "    </tr>\n",
       "    <tr>\n",
       "      <th>233</th>\n",
       "      <td>37055</td>\n",
       "      <td>37055970200</td>\n",
       "      <td>0.000000</td>\n",
       "      <td>POLYGON ((-75.708 36.047, -75.694 36.054, -75....</td>\n",
       "      <td>2</td>\n",
       "    </tr>\n",
       "    <tr>\n",
       "      <th>234</th>\n",
       "      <td>37055</td>\n",
       "      <td>37055970300</td>\n",
       "      <td>0.000000</td>\n",
       "      <td>POLYGON ((-75.730 36.007, -75.727 36.011, -75....</td>\n",
       "      <td>3</td>\n",
       "    </tr>\n",
       "    <tr>\n",
       "      <th>1432</th>\n",
       "      <td>37055</td>\n",
       "      <td>37055970501</td>\n",
       "      <td>0.000000</td>\n",
       "      <td>POLYGON ((-76.013 35.670, -76.009 35.676, -76....</td>\n",
       "      <td>4</td>\n",
       "    </tr>\n",
       "    <tr>\n",
       "      <th>1433</th>\n",
       "      <td>37055</td>\n",
       "      <td>37055970602</td>\n",
       "      <td>0.000000</td>\n",
       "      <td>POLYGON ((-75.676 35.883, -75.672 35.885, -75....</td>\n",
       "      <td>5</td>\n",
       "    </tr>\n",
       "    <tr>\n",
       "      <th>236</th>\n",
       "      <td>37055</td>\n",
       "      <td>37055970502</td>\n",
       "      <td>0.003003</td>\n",
       "      <td>POLYGON ((-75.752 35.193, -75.739 35.196, -75....</td>\n",
       "      <td>6</td>\n",
       "    </tr>\n",
       "    <tr>\n",
       "      <th>237</th>\n",
       "      <td>37055</td>\n",
       "      <td>37055970601</td>\n",
       "      <td>0.011011</td>\n",
       "      <td>POLYGON ((-75.727 35.936, -75.718 35.940, -75....</td>\n",
       "      <td>7</td>\n",
       "    </tr>\n",
       "    <tr>\n",
       "      <th>235</th>\n",
       "      <td>37055</td>\n",
       "      <td>37055970400</td>\n",
       "      <td>0.028028</td>\n",
       "      <td>POLYGON ((-75.670 35.984, -75.649 35.993, -75....</td>\n",
       "      <td>8</td>\n",
       "    </tr>\n",
       "  </tbody>\n",
       "</table>\n",
       "</div>"
      ],
      "text/plain": [
       "     STCNTY         FIPS  EP_GROUPQ  \\\n",
       "231   37055  37055970101   0.000000   \n",
       "232   37055  37055970102   0.000000   \n",
       "233   37055  37055970200   0.000000   \n",
       "234   37055  37055970300   0.000000   \n",
       "1432  37055  37055970501   0.000000   \n",
       "1433  37055  37055970602   0.000000   \n",
       "236   37055  37055970502   0.003003   \n",
       "237   37055  37055970601   0.011011   \n",
       "235   37055  37055970400   0.028028   \n",
       "\n",
       "                                               geometry  sortedID  \n",
       "231   POLYGON ((-75.795 36.227, -75.777 36.231, -75....         0  \n",
       "232   POLYGON ((-75.743 36.093, -75.733 36.096, -75....         1  \n",
       "233   POLYGON ((-75.708 36.047, -75.694 36.054, -75....         2  \n",
       "234   POLYGON ((-75.730 36.007, -75.727 36.011, -75....         3  \n",
       "1432  POLYGON ((-76.013 35.670, -76.009 35.676, -76....         4  \n",
       "1433  POLYGON ((-75.676 35.883, -75.672 35.885, -75....         5  \n",
       "236   POLYGON ((-75.752 35.193, -75.739 35.196, -75....         6  \n",
       "237   POLYGON ((-75.727 35.936, -75.718 35.940, -75....         7  \n",
       "235   POLYGON ((-75.670 35.984, -75.649 35.993, -75....         8  "
      ]
     },
     "execution_count": 41,
     "metadata": {},
     "output_type": "execute_result"
    }
   ],
   "source": [
    "df_one_variable"
   ]
  },
  {
   "cell_type": "code",
   "execution_count": 18,
   "metadata": {},
   "outputs": [
    {
     "data": {
      "text/plain": [
       "[[0],\n",
       " [1],\n",
       " [0, 1],\n",
       " [2],\n",
       " [1, 2],\n",
       " [3],\n",
       " [1, 3],\n",
       " [2, 3],\n",
       " [1, 2, 3],\n",
       " [5],\n",
       " [7],\n",
       " [5, 7],\n",
       " [8],\n",
       " [3, 8]]"
      ]
     },
     "execution_count": 18,
     "metadata": {},
     "output_type": "execute_result"
    }
   ],
   "source": [
    "simplices"
   ]
  },
  {
   "cell_type": "code",
   "execution_count": null,
   "metadata": {},
   "outputs": [],
   "source": [
    "# generalized variance code"
   ]
  },
  {
   "cell_type": "code",
   "execution_count": 19,
   "metadata": {},
   "outputs": [],
   "source": [
    "selected_census = []\n",
    "\n",
    "for set in simplices:\n",
    "    if len(set) == 2 or len(set) == 3:\n",
    "        for vertice in set:\n",
    "            if vertice not in selected_census:\n",
    "                selected_census.append(vertice)"
   ]
  },
  {
   "cell_type": "code",
   "execution_count": 20,
   "metadata": {},
   "outputs": [
    {
     "data": {
      "text/plain": [
       "[0, 1, 2, 3, 5, 7, 8]"
      ]
     },
     "execution_count": 20,
     "metadata": {},
     "output_type": "execute_result"
    }
   ],
   "source": [
    "selected_census"
   ]
  },
  {
   "cell_type": "code",
   "execution_count": 21,
   "metadata": {},
   "outputs": [],
   "source": [
    "filtered_census_df = df_one_variable.loc[df_one_variable[\"sortedID\"].isin(selected_census)]"
   ]
  },
  {
   "cell_type": "code",
   "execution_count": 22,
   "metadata": {},
   "outputs": [
    {
     "name": "stderr",
     "output_type": "stream",
     "text": [
      "/home/h6x/miniconda3/envs/pytorch_env/lib/python3.12/site-packages/libpysal/weights/contiguity.py:347: UserWarning: The weights matrix is not fully connected: \n",
      " There are 2 disconnected components.\n",
      "  W.__init__(self, neighbors, ids=ids, **kw)\n"
     ]
    }
   ],
   "source": [
    "# lattice stored in a geo-table\n",
    "wq = weights.contiguity.Queen.from_dataframe(filtered_census_df)\n",
    "neighbors_q = wq.neighbors"
   ]
  },
  {
   "cell_type": "code",
   "execution_count": 23,
   "metadata": {},
   "outputs": [],
   "source": [
    "QTemp = pd.DataFrame(*wq.full()).astype(int)\n",
    "QTemp = QTemp.multiply(-1)\n",
    "\n",
    "QTemp.index = filtered_census_df[\"sortedID\"].values\n",
    "QTemp.columns = filtered_census_df[\"sortedID\"].values\n",
    "\n",
    "# for each row in the fullMatrix dataframe sum the values in the row and take the absolute value and store in the diagonal\n",
    "for i in QTemp.index:\n",
    "    QTemp.loc[i,i] = abs(QTemp.loc[i].sum())\n",
    "\n",
    "# print(neighbors_q)\n",
    "# print(filtered_census_df.head(3))\n",
    "# print(QTemp)\n",
    "\n",
    "\n",
    "# Marginal variance code -Multiple clusters\n",
    "\n",
    "# transform df to numpy array\n",
    "Q = QTemp.to_numpy()"
   ]
  },
  {
   "cell_type": "code",
   "execution_count": 24,
   "metadata": {},
   "outputs": [
    {
     "data": {
      "text/html": [
       "<div>\n",
       "<style scoped>\n",
       "    .dataframe tbody tr th:only-of-type {\n",
       "        vertical-align: middle;\n",
       "    }\n",
       "\n",
       "    .dataframe tbody tr th {\n",
       "        vertical-align: top;\n",
       "    }\n",
       "\n",
       "    .dataframe thead th {\n",
       "        text-align: right;\n",
       "    }\n",
       "</style>\n",
       "<table border=\"1\" class=\"dataframe\">\n",
       "  <thead>\n",
       "    <tr style=\"text-align: right;\">\n",
       "      <th></th>\n",
       "      <th>0</th>\n",
       "      <th>1</th>\n",
       "      <th>2</th>\n",
       "      <th>3</th>\n",
       "      <th>5</th>\n",
       "      <th>7</th>\n",
       "      <th>8</th>\n",
       "    </tr>\n",
       "  </thead>\n",
       "  <tbody>\n",
       "    <tr>\n",
       "      <th>0</th>\n",
       "      <td>1</td>\n",
       "      <td>-1</td>\n",
       "      <td>0</td>\n",
       "      <td>0</td>\n",
       "      <td>0</td>\n",
       "      <td>0</td>\n",
       "      <td>0</td>\n",
       "    </tr>\n",
       "    <tr>\n",
       "      <th>1</th>\n",
       "      <td>-1</td>\n",
       "      <td>3</td>\n",
       "      <td>-1</td>\n",
       "      <td>-1</td>\n",
       "      <td>0</td>\n",
       "      <td>0</td>\n",
       "      <td>0</td>\n",
       "    </tr>\n",
       "    <tr>\n",
       "      <th>2</th>\n",
       "      <td>0</td>\n",
       "      <td>-1</td>\n",
       "      <td>2</td>\n",
       "      <td>-1</td>\n",
       "      <td>0</td>\n",
       "      <td>0</td>\n",
       "      <td>0</td>\n",
       "    </tr>\n",
       "    <tr>\n",
       "      <th>3</th>\n",
       "      <td>0</td>\n",
       "      <td>-1</td>\n",
       "      <td>-1</td>\n",
       "      <td>3</td>\n",
       "      <td>0</td>\n",
       "      <td>0</td>\n",
       "      <td>-1</td>\n",
       "    </tr>\n",
       "    <tr>\n",
       "      <th>5</th>\n",
       "      <td>0</td>\n",
       "      <td>0</td>\n",
       "      <td>0</td>\n",
       "      <td>0</td>\n",
       "      <td>1</td>\n",
       "      <td>-1</td>\n",
       "      <td>0</td>\n",
       "    </tr>\n",
       "    <tr>\n",
       "      <th>7</th>\n",
       "      <td>0</td>\n",
       "      <td>0</td>\n",
       "      <td>0</td>\n",
       "      <td>0</td>\n",
       "      <td>-1</td>\n",
       "      <td>1</td>\n",
       "      <td>0</td>\n",
       "    </tr>\n",
       "    <tr>\n",
       "      <th>8</th>\n",
       "      <td>0</td>\n",
       "      <td>0</td>\n",
       "      <td>0</td>\n",
       "      <td>-1</td>\n",
       "      <td>0</td>\n",
       "      <td>0</td>\n",
       "      <td>1</td>\n",
       "    </tr>\n",
       "  </tbody>\n",
       "</table>\n",
       "</div>"
      ],
      "text/plain": [
       "   0  1  2  3  5  7  8\n",
       "0  1 -1  0  0  0  0  0\n",
       "1 -1  3 -1 -1  0  0  0\n",
       "2  0 -1  2 -1  0  0  0\n",
       "3  0 -1 -1  3  0  0 -1\n",
       "5  0  0  0  0  1 -1  0\n",
       "7  0  0  0  0 -1  1  0\n",
       "8  0  0  0 -1  0  0  1"
      ]
     },
     "execution_count": 24,
     "metadata": {},
     "output_type": "execute_result"
    }
   ],
   "source": [
    "QTemp"
   ]
  },
  {
   "cell_type": "code",
   "execution_count": 46,
   "metadata": {},
   "outputs": [
    {
     "data": {
      "text/plain": [
       "(7, 7)"
      ]
     },
     "execution_count": 46,
     "metadata": {},
     "output_type": "execute_result"
    }
   ],
   "source": [
    "QTemp.shape"
   ]
  },
  {
   "cell_type": "code",
   "execution_count": 48,
   "metadata": {},
   "outputs": [
    {
     "data": {
      "text/plain": [
       "[0, 1, 2, 3, 5, 7, 8]"
      ]
     },
     "execution_count": 48,
     "metadata": {},
     "output_type": "execute_result"
    }
   ],
   "source": [
    "# get the index of the QTemp\n",
    "QTemp.index.to_list()"
   ]
  },
  {
   "cell_type": "code",
   "execution_count": 39,
   "metadata": {},
   "outputs": [
    {
     "data": {
      "text/plain": [
       "array([[ 1, -1,  0,  0,  0,  0,  0],\n",
       "       [-1,  3, -1, -1,  0,  0,  0],\n",
       "       [ 0, -1,  2, -1,  0,  0,  0],\n",
       "       [ 0, -1, -1,  3,  0,  0, -1],\n",
       "       [ 0,  0,  0,  0,  1, -1,  0],\n",
       "       [ 0,  0,  0,  0, -1,  1,  0],\n",
       "       [ 0,  0,  0, -1,  0,  0,  1]])"
      ]
     },
     "execution_count": 39,
     "metadata": {},
     "output_type": "execute_result"
    }
   ],
   "source": [
    "Q"
   ]
  },
  {
   "cell_type": "code",
   "execution_count": 25,
   "metadata": {},
   "outputs": [
    {
     "name": "stdout",
     "output_type": "stream",
     "text": [
      "Number of connected components: 2\n"
     ]
    }
   ],
   "source": [
    "graph = csr_matrix(QTemp)\n",
    "n_components, labels = connected_components(csgraph=graph, directed=False, return_labels=True)\n",
    "\n",
    "print(f\"Number of connected components: {n_components}\")"
   ]
  },
  {
   "cell_type": "code",
   "execution_count": 26,
   "metadata": {},
   "outputs": [
    {
     "data": {
      "text/plain": [
       "array([0, 0, 0, 0, 1, 1, 0], dtype=int32)"
      ]
     },
     "execution_count": 26,
     "metadata": {},
     "output_type": "execute_result"
    }
   ],
   "source": [
    "labels"
   ]
  },
  {
   "cell_type": "code",
   "execution_count": 27,
   "metadata": {},
   "outputs": [
    {
     "data": {
      "text/plain": [
       "7"
      ]
     },
     "execution_count": 27,
     "metadata": {},
     "output_type": "execute_result"
    }
   ],
   "source": [
    "len(labels)"
   ]
  },
  {
   "cell_type": "code",
   "execution_count": 28,
   "metadata": {},
   "outputs": [],
   "source": [
    "# Step 6: Group vertices by their component labels\n",
    "component_simplices = {i: [] for i in range(n_components)}  # Initialize a dictionary for simplices per component\n"
   ]
  },
  {
   "cell_type": "code",
   "execution_count": 51,
   "metadata": {},
   "outputs": [],
   "source": [
    "component_census = {i: [] for i in range(n_components)}  # Initialize a dictionary for simplices per component"
   ]
  },
  {
   "cell_type": "code",
   "execution_count": 30,
   "metadata": {},
   "outputs": [
    {
     "data": {
      "text/plain": [
       "{0: [], 1: []}"
      ]
     },
     "execution_count": 30,
     "metadata": {},
     "output_type": "execute_result"
    }
   ],
   "source": [
    "component_census"
   ]
  },
  {
   "cell_type": "code",
   "execution_count": 31,
   "metadata": {},
   "outputs": [
    {
     "data": {
      "text/plain": [
       "{0: [], 1: []}"
      ]
     },
     "execution_count": 31,
     "metadata": {},
     "output_type": "execute_result"
    }
   ],
   "source": [
    "component_simplices"
   ]
  },
  {
   "cell_type": "code",
   "execution_count": 37,
   "metadata": {},
   "outputs": [
    {
     "data": {
      "text/plain": [
       "array([0, 0, 0, 0, 1, 1, 0], dtype=int32)"
      ]
     },
     "execution_count": 37,
     "metadata": {},
     "output_type": "execute_result"
    }
   ],
   "source": [
    "labels"
   ]
  },
  {
   "cell_type": "code",
   "execution_count": 38,
   "metadata": {},
   "outputs": [
    {
     "data": {
      "text/plain": [
       "7"
      ]
     },
     "execution_count": 38,
     "metadata": {},
     "output_type": "execute_result"
    }
   ],
   "source": [
    "len(labels)"
   ]
  },
  {
   "cell_type": "code",
   "execution_count": 50,
   "metadata": {},
   "outputs": [],
   "source": [
    "id = QTemp.index.to_list()"
   ]
  },
  {
   "cell_type": "code",
   "execution_count": 52,
   "metadata": {},
   "outputs": [],
   "source": [
    "# loop through labels and id same time\n",
    "for label, idx in zip(labels, id):\n",
    "    component_census[label].append(idx)"
   ]
  },
  {
   "cell_type": "code",
   "execution_count": 53,
   "metadata": {},
   "outputs": [
    {
     "data": {
      "text/plain": [
       "{0: [0, 1, 2, 3, 8], 1: [5, 7]}"
      ]
     },
     "execution_count": 53,
     "metadata": {},
     "output_type": "execute_result"
    }
   ],
   "source": [
    "component_census"
   ]
  },
  {
   "cell_type": "code",
   "execution_count": 32,
   "metadata": {},
   "outputs": [],
   "source": [
    "for idx, label in enumerate(labels):\n",
    "\n",
    "    # print(idx, label)\n",
    "    component_census[label].append(idx)"
   ]
  },
  {
   "cell_type": "code",
   "execution_count": 33,
   "metadata": {},
   "outputs": [
    {
     "data": {
      "text/plain": [
       "{0: [0, 1, 2, 3, 6], 1: [4, 5]}"
      ]
     },
     "execution_count": 33,
     "metadata": {},
     "output_type": "execute_result"
    }
   ],
   "source": [
    "component_census"
   ]
  },
  {
   "cell_type": "code",
   "execution_count": 36,
   "metadata": {},
   "outputs": [
    {
     "name": "stdout",
     "output_type": "stream",
     "text": [
      "vertice 0\n",
      "vertice 0 belongs to component 0\n",
      "vertice 1\n",
      "vertice 1 belongs to component 0\n",
      "vertice 1\n",
      "vertice 1 belongs to component 0\n",
      "vertice 2\n",
      "vertice 2 belongs to component 0\n",
      "vertice 1\n",
      "vertice 1 belongs to component 0\n",
      "vertice 5\n",
      "vertice 5 belongs to component 1\n",
      "vertice 3\n",
      "vertice 3 belongs to component 0\n"
     ]
    }
   ],
   "source": [
    "for simplex in simplices:\n",
    "\n",
    "    if len(simplex) == 2 or len(simplex) == 3:\n",
    "\n",
    "        # take the first vertice in the simplex and check component census it belongs to\n",
    "        vertice = simplex[0]\n",
    "        print(\"vertice\",vertice)\n",
    "\n",
    "        for component in component_census:\n",
    "            # print(\"component\",component)\n",
    "\n",
    "            if vertice in component_census[component]:\n",
    "                print(f'vertice {vertice} belongs to component {component}')\n",
    "                # component_simplices[component].append(simplex)\n",
    "\n",
    "            #     component_simplices[component].append(simplex)\n",
    "        # break\n",
    "\n",
    "    "
   ]
  },
  {
   "cell_type": "code",
   "execution_count": 35,
   "metadata": {},
   "outputs": [
    {
     "data": {
      "text/plain": [
       "{0: [[0, 1], [1, 2], [1, 3], [2, 3], [1, 2, 3], [3, 8]], 1: [[5, 7]]}"
      ]
     },
     "execution_count": 35,
     "metadata": {},
     "output_type": "execute_result"
    }
   ],
   "source": [
    "component_simplices"
   ]
  },
  {
   "cell_type": "code",
   "execution_count": null,
   "metadata": {},
   "outputs": [],
   "source": [
    "component_census[0]"
   ]
  },
  {
   "cell_type": "code",
   "execution_count": null,
   "metadata": {},
   "outputs": [],
   "source": [
    "for simplex in simplices:\n",
    "    if len(simplex) == 1:\n",
    "        # st.insert([simplex[0]], filtration=0.0)"
   ]
  },
  {
   "cell_type": "code",
   "execution_count": null,
   "metadata": {},
   "outputs": [],
   "source": [
    "component_simplices[0]"
   ]
  },
  {
   "cell_type": "code",
   "execution_count": null,
   "metadata": {},
   "outputs": [],
   "source": [
    "for simplex in component_simplices[0]:\n",
    "    if len(simplex) == 2:\n",
    "        print(simplex)\n",
    "        last_simplex = simplex[-1]\n",
    "        print(last_simplex)\n",
    "        filtration_value = df_one_variable.loc[df_one_variable['sortedID'] == last_simplex, variable_name].values[0]\n",
    "        print(filtration_value)\n"
   ]
  },
  {
   "cell_type": "code",
   "execution_count": null,
   "metadata": {},
   "outputs": [],
   "source": [
    "for simplex in simplices:\n",
    "    if len(simplex) == 2:\n",
    "        last_simplex = simplex[-1]\n",
    "        filtration_value = df_one_variable.loc[df_one_variable['sortedID'] == last_simplex, variable_name].values[0]\n",
    "        # st.insert(simplex, filtration=filtration_value)\n",
    "\n"
   ]
  },
  {
   "cell_type": "code",
   "execution_count": null,
   "metadata": {},
   "outputs": [],
   "source": [
    "for simplex in simplices:\n",
    "    if len(simplex) == 3:\n",
    "        last_simplex = simplex[-1]\n",
    "        filtration_value = df_one_variable.loc[df_one_variable['sortedID'] == last_simplex, variable_name].values[0]\n",
    "        # st.insert(simplex, filtration=filtration_value)"
   ]
  },
  {
   "cell_type": "code",
   "execution_count": null,
   "metadata": {},
   "outputs": [],
   "source": [
    "component_census"
   ]
  },
  {
   "cell_type": "code",
   "execution_count": null,
   "metadata": {},
   "outputs": [],
   "source": [
    "len(component_census)"
   ]
  },
  {
   "cell_type": "code",
   "execution_count": 61,
   "metadata": {},
   "outputs": [
    {
     "name": "stdout",
     "output_type": "stream",
     "text": [
      "Number of connected components: 2\n"
     ]
    },
    {
     "name": "stderr",
     "output_type": "stream",
     "text": [
      "/home/h6x/miniconda3/envs/pytorch_env/lib/python3.12/site-packages/libpysal/weights/contiguity.py:347: UserWarning: The weights matrix is not fully connected: \n",
      " There are 2 disconnected components.\n",
      "  W.__init__(self, neighbors, ids=ids, **kw)\n"
     ]
    }
   ],
   "source": [
    "generalized_variance_dic, component_census, component_simplices = generate_generalized_variance(simplices=simplices,data_frame=df_one_variable, variable_name=variable_name)"
   ]
  },
  {
   "cell_type": "code",
   "execution_count": 62,
   "metadata": {},
   "outputs": [
    {
     "data": {
      "text/plain": [
       "0.46338322996371606"
      ]
     },
     "execution_count": 62,
     "metadata": {},
     "output_type": "execute_result"
    }
   ],
   "source": [
    "list(generalized_variance_dic.values())[0]"
   ]
  },
  {
   "cell_type": "code",
   "execution_count": 63,
   "metadata": {},
   "outputs": [
    {
     "data": {
      "text/plain": [
       "{0: 0.46338322996371606, 1: 0.25}"
      ]
     },
     "execution_count": 63,
     "metadata": {},
     "output_type": "execute_result"
    }
   ],
   "source": [
    "generalized_variance_dic"
   ]
  },
  {
   "cell_type": "code",
   "execution_count": 64,
   "metadata": {},
   "outputs": [
    {
     "data": {
      "text/plain": [
       "{0: [0, 1, 2, 3, 8], 1: [5, 7]}"
      ]
     },
     "execution_count": 64,
     "metadata": {},
     "output_type": "execute_result"
    }
   ],
   "source": [
    "component_census"
   ]
  },
  {
   "cell_type": "code",
   "execution_count": 65,
   "metadata": {},
   "outputs": [
    {
     "data": {
      "text/plain": [
       "{0: [[0, 1], [1, 2], [1, 3], [2, 3], [1, 2, 3], [3, 8]], 1: [[5, 7]]}"
      ]
     },
     "execution_count": 65,
     "metadata": {},
     "output_type": "execute_result"
    }
   ],
   "source": [
    "component_simplices"
   ]
  },
  {
   "cell_type": "code",
   "execution_count": 66,
   "metadata": {},
   "outputs": [],
   "source": [
    "# get the keys of the dictionary component_census"
   ]
  },
  {
   "cell_type": "code",
   "execution_count": 67,
   "metadata": {},
   "outputs": [
    {
     "name": "stdout",
     "output_type": "stream",
     "text": [
      "0\n",
      "1\n"
     ]
    }
   ],
   "source": [
    "for key in component_census.keys():\n",
    "    print(key)"
   ]
  },
  {
   "cell_type": "code",
   "execution_count": 69,
   "metadata": {},
   "outputs": [],
   "source": [
    "PERSISTENCE_IMAGE_PARAMS = {\n",
    "        'pixel_size': 0.001,\n",
    "        'birth_range': (0.0, 1.00),\n",
    "        'pers_range': (0.0, 0.40),\n",
    "        'kernel_params': {'sigma': 0.0003}\n",
    "    }"
   ]
  },
  {
   "cell_type": "code",
   "execution_count": 73,
   "metadata": {},
   "outputs": [
    {
     "name": "stdout",
     "output_type": "stream",
     "text": [
      "0\n",
      "Generalized Variance: 0.46338322996371606\n",
      "Simplices: [[0, 1], [1, 2], [1, 3], [2, 3], [1, 2, 3], [3, 8]]\n",
      "Census: [0, 1, 2, 3, 8]\n",
      "0\n",
      "1\n",
      "2\n",
      "3\n",
      "8\n",
      "(400, 1000)\n",
      "1\n",
      "Generalized Variance: 0.25\n",
      "Simplices: [[5, 7]]\n",
      "Census: [5, 7]\n",
      "5\n",
      "7\n",
      "(400, 1000)\n"
     ]
    }
   ],
   "source": [
    "per_images_per_subcomponent = []\n",
    "\n",
    "for key in component_census.keys():\n",
    "    print(key)\n",
    "    \n",
    "    generalized_variance = generalized_variance_dic[key]\n",
    "    simplices_sub = component_simplices[key]\n",
    "    census_sub = component_census[key]\n",
    "    print(f'Generalized Variance: {generalized_variance}')\n",
    "    print(f'Simplices: {simplices_sub}')\n",
    "    print(f'Census: {census_sub}')\n",
    "\n",
    "\n",
    "    # Generate persistence images based on the generalized variance\n",
    "\n",
    "    st = gudhi.SimplexTree()\n",
    "    st.set_dimension(2)\n",
    "\n",
    "    for simplex in census_sub:\n",
    "        print(simplex)\n",
    "    #     # if len(simplex) == 1:\n",
    "        st.insert([simplex], filtration=0.0)\n",
    "\n",
    "    for simplex in simplices_sub:\n",
    "        if len(simplex) == 2:\n",
    "            last_simplex = simplex[-1]\n",
    "            filtration_value = df_one_variable.loc[df_one_variable['sortedID'] == last_simplex, variable_name].values[0]\n",
    "            st.insert(simplex, filtration=filtration_value)\n",
    "\n",
    "    for simplex in simplices_sub:\n",
    "        if len(simplex) == 3:\n",
    "            last_simplex = simplex[-1]\n",
    "            filtration_value = df_one_variable.loc[df_one_variable['sortedID'] == last_simplex, variable_name].values[0]\n",
    "            st.insert(simplex, filtration=filtration_value)\n",
    "\n",
    "    st.compute_persistence()\n",
    "    persistence = st.persistence()\n",
    "\n",
    "    intervals_dim0 = st.persistence_intervals_in_dimension(0)\n",
    "    intervals_dim1 = st.persistence_intervals_in_dimension(1)\n",
    "    pdgms = [[birth, death] for birth, death in intervals_dim1 if death < np.inf]\n",
    "\n",
    "    # add interval dim 0  to the pdgms\n",
    "    for birth, death in intervals_dim0:\n",
    "        if death < np.inf:\n",
    "            pdgms.append([birth, death])\n",
    "        # elif death == np.inf:\n",
    "            # pdgms.append([birth, INFINITY])\n",
    "        \n",
    "\n",
    "    # save_path = os.path.join(base_path, variable_name, county_stcnty)\n",
    "\n",
    "    if len(pdgms) > 0:\n",
    "        \n",
    "        # print(f'Processing {variable_name} for {county_stcnty}')\n",
    "        # print(f'Number of persistence diagrams: {len(pdgms)}')\n",
    "        # print(intervals_dim1)\n",
    "        # for i in range(len(intervals_dim1)):\n",
    "        #     if np.isinf(pdgms[i][1]):\n",
    "        #         pdgms[i][1] = 1\n",
    "        #     if np.isinf(pdgms[i][0]):\n",
    "        #         pdgms[i][0] = 1\n",
    "\n",
    "        pimgr = PersistenceImager(pixel_size=0.01)\n",
    "        pimgr.fit(pdgms)\n",
    "\n",
    "        pimgr.pixel_size = PERSISTENCE_IMAGE_PARAMS['pixel_size']\n",
    "        pimgr.birth_range = PERSISTENCE_IMAGE_PARAMS['birth_range']\n",
    "        pimgr.pers_range = PERSISTENCE_IMAGE_PARAMS['pers_range']\n",
    "        pimgr.kernel_params =  {'sigma': generalized_variance}\n",
    "\n",
    "        pimgs = pimgr.transform(pdgms)\n",
    "        pimgs = np.rot90(pimgs, k=1) \n",
    "        per_images_per_subcomponent.append(pimgs)\n",
    "\n",
    "        print(pimgs.shape)\n",
    "\n",
    "\n"
   ]
  },
  {
   "cell_type": "code",
   "execution_count": null,
   "metadata": {},
   "outputs": [],
   "source": [
    "len(per_images_per_subcomponent)"
   ]
  },
  {
   "cell_type": "code",
   "execution_count": null,
   "metadata": {},
   "outputs": [],
   "source": [
    "per_images_per_subcomponent[0].shape"
   ]
  },
  {
   "cell_type": "code",
   "execution_count": null,
   "metadata": {},
   "outputs": [],
   "source": [
    "per_images_per_subcomponent[1].shape"
   ]
  },
  {
   "cell_type": "code",
   "execution_count": null,
   "metadata": {},
   "outputs": [],
   "source": [
    "per_images_per_subcomponent[2].shape"
   ]
  },
  {
   "cell_type": "code",
   "execution_count": null,
   "metadata": {},
   "outputs": [],
   "source": [
    "type(per_images_per_subcomponent[2])"
   ]
  },
  {
   "cell_type": "code",
   "execution_count": null,
   "metadata": {},
   "outputs": [],
   "source": [
    "type(per_images_per_subcomponent)"
   ]
  },
  {
   "cell_type": "code",
   "execution_count": null,
   "metadata": {},
   "outputs": [],
   "source": [
    "import numpy as np\n",
    "\n",
    "combined_array = np.concatenate(per_images_per_subcomponent, axis=0)"
   ]
  },
  {
   "cell_type": "code",
   "execution_count": null,
   "metadata": {},
   "outputs": [],
   "source": [
    "combined_array.shape"
   ]
  },
  {
   "cell_type": "code",
   "execution_count": null,
   "metadata": {},
   "outputs": [],
   "source": [
    "A = per_images_per_subcomponent[0] + per_images_per_subcomponent[1] + per_images_per_subcomponent[2]"
   ]
  },
  {
   "cell_type": "code",
   "execution_count": null,
   "metadata": {},
   "outputs": [],
   "source": [
    "A.shape"
   ]
  },
  {
   "cell_type": "code",
   "execution_count": null,
   "metadata": {},
   "outputs": [],
   "source": [
    "print(per_images_per_subcomponent[0][12][40])\n",
    "print(per_images_per_subcomponent[1][12][40])\n",
    "print(per_images_per_subcomponent[2][12][40])"
   ]
  },
  {
   "cell_type": "code",
   "execution_count": null,
   "metadata": {},
   "outputs": [],
   "source": [
    "B = np.sum(per_images_per_subcomponent, axis=0)"
   ]
  },
  {
   "cell_type": "code",
   "execution_count": null,
   "metadata": {},
   "outputs": [],
   "source": [
    "B.shape"
   ]
  },
  {
   "cell_type": "code",
   "execution_count": null,
   "metadata": {},
   "outputs": [],
   "source": []
  },
  {
   "cell_type": "code",
   "execution_count": null,
   "metadata": {},
   "outputs": [],
   "source": []
  },
  {
   "cell_type": "code",
   "execution_count": null,
   "metadata": {},
   "outputs": [],
   "source": []
  },
  {
   "cell_type": "code",
   "execution_count": null,
   "metadata": {},
   "outputs": [],
   "source": []
  },
  {
   "cell_type": "code",
   "execution_count": null,
   "metadata": {},
   "outputs": [],
   "source": []
  },
  {
   "cell_type": "code",
   "execution_count": null,
   "metadata": {},
   "outputs": [],
   "source": []
  },
  {
   "cell_type": "code",
   "execution_count": 3,
   "metadata": {},
   "outputs": [],
   "source": [
    "dff = gpd.read_file(\"/home/h6x/git_projects/ornl-svi-data-processing/processed_data/SVI/SVI2018_NOT_SCALED_MISSING_REMOVED/NY/NY.shp\")"
   ]
  },
  {
   "cell_type": "code",
   "execution_count": 4,
   "metadata": {},
   "outputs": [
    {
     "data": {
      "text/plain": [
       "(4821, 127)"
      ]
     },
     "execution_count": 4,
     "metadata": {},
     "output_type": "execute_result"
    }
   ],
   "source": [
    "dff.shape"
   ]
  },
  {
   "cell_type": "code",
   "execution_count": 5,
   "metadata": {},
   "outputs": [
    {
     "data": {
      "text/html": [
       "<div>\n",
       "<style scoped>\n",
       "    .dataframe tbody tr th:only-of-type {\n",
       "        vertical-align: middle;\n",
       "    }\n",
       "\n",
       "    .dataframe tbody tr th {\n",
       "        vertical-align: top;\n",
       "    }\n",
       "\n",
       "    .dataframe thead th {\n",
       "        text-align: right;\n",
       "    }\n",
       "</style>\n",
       "<table border=\"1\" class=\"dataframe\">\n",
       "  <thead>\n",
       "    <tr style=\"text-align: right;\">\n",
       "      <th></th>\n",
       "      <th>ST</th>\n",
       "      <th>STATE</th>\n",
       "      <th>ST_ABBR</th>\n",
       "      <th>STCNTY</th>\n",
       "      <th>COUNTY</th>\n",
       "      <th>FIPS</th>\n",
       "      <th>LOCATION</th>\n",
       "      <th>AREA_SQMI</th>\n",
       "      <th>E_TOTPOP</th>\n",
       "      <th>M_TOTPOP</th>\n",
       "      <th>...</th>\n",
       "      <th>F_THEME4</th>\n",
       "      <th>F_TOTAL</th>\n",
       "      <th>E_UNINSUR</th>\n",
       "      <th>M_UNINSUR</th>\n",
       "      <th>EP_UNINSUR</th>\n",
       "      <th>MP_UNINSUR</th>\n",
       "      <th>E_DAYPOP</th>\n",
       "      <th>Shape_Leng</th>\n",
       "      <th>Shape_Area</th>\n",
       "      <th>geometry</th>\n",
       "    </tr>\n",
       "  </thead>\n",
       "  <tbody>\n",
       "    <tr>\n",
       "      <th>0</th>\n",
       "      <td>36</td>\n",
       "      <td>NEW YORK</td>\n",
       "      <td>NY</td>\n",
       "      <td>36001</td>\n",
       "      <td>Albany</td>\n",
       "      <td>36001000100</td>\n",
       "      <td>Census Tract 1, Albany County, New York</td>\n",
       "      <td>0.914079</td>\n",
       "      <td>2022</td>\n",
       "      <td>218</td>\n",
       "      <td>...</td>\n",
       "      <td>0</td>\n",
       "      <td>3</td>\n",
       "      <td>128</td>\n",
       "      <td>57</td>\n",
       "      <td>6.3</td>\n",
       "      <td>2.8</td>\n",
       "      <td>3031</td>\n",
       "      <td>0.070750</td>\n",
       "      <td>0.000286</td>\n",
       "      <td>POLYGON ((-73.74506 42.67228, -73.74374 42.677...</td>\n",
       "    </tr>\n",
       "    <tr>\n",
       "      <th>1</th>\n",
       "      <td>36</td>\n",
       "      <td>NEW YORK</td>\n",
       "      <td>NY</td>\n",
       "      <td>36001</td>\n",
       "      <td>Albany</td>\n",
       "      <td>36001000403</td>\n",
       "      <td>Census Tract 4.03, Albany County, New York</td>\n",
       "      <td>1.211858</td>\n",
       "      <td>4236</td>\n",
       "      <td>365</td>\n",
       "      <td>...</td>\n",
       "      <td>0</td>\n",
       "      <td>0</td>\n",
       "      <td>133</td>\n",
       "      <td>104</td>\n",
       "      <td>3.1</td>\n",
       "      <td>2.5</td>\n",
       "      <td>11514</td>\n",
       "      <td>0.111548</td>\n",
       "      <td>0.000344</td>\n",
       "      <td>POLYGON ((-73.82108 42.67858, -73.81916 42.680...</td>\n",
       "    </tr>\n",
       "    <tr>\n",
       "      <th>2</th>\n",
       "      <td>36</td>\n",
       "      <td>NEW YORK</td>\n",
       "      <td>NY</td>\n",
       "      <td>36001</td>\n",
       "      <td>Albany</td>\n",
       "      <td>36001001700</td>\n",
       "      <td>Census Tract 17, Albany County, New York</td>\n",
       "      <td>0.527898</td>\n",
       "      <td>4486</td>\n",
       "      <td>406</td>\n",
       "      <td>...</td>\n",
       "      <td>0</td>\n",
       "      <td>0</td>\n",
       "      <td>117</td>\n",
       "      <td>71</td>\n",
       "      <td>2.7</td>\n",
       "      <td>1.6</td>\n",
       "      <td>5072</td>\n",
       "      <td>0.059361</td>\n",
       "      <td>0.000151</td>\n",
       "      <td>POLYGON ((-73.80454 42.66263, -73.80212 42.662...</td>\n",
       "    </tr>\n",
       "    <tr>\n",
       "      <th>3</th>\n",
       "      <td>36</td>\n",
       "      <td>NEW YORK</td>\n",
       "      <td>NY</td>\n",
       "      <td>36001</td>\n",
       "      <td>Albany</td>\n",
       "      <td>36001001801</td>\n",
       "      <td>Census Tract 18.01, Albany County, New York</td>\n",
       "      <td>3.107938</td>\n",
       "      <td>6993</td>\n",
       "      <td>533</td>\n",
       "      <td>...</td>\n",
       "      <td>0</td>\n",
       "      <td>1</td>\n",
       "      <td>77</td>\n",
       "      <td>66</td>\n",
       "      <td>1.1</td>\n",
       "      <td>0.9</td>\n",
       "      <td>4699</td>\n",
       "      <td>0.196286</td>\n",
       "      <td>0.000887</td>\n",
       "      <td>POLYGON ((-73.84719 42.64865, -73.84226 42.652...</td>\n",
       "    </tr>\n",
       "    <tr>\n",
       "      <th>4</th>\n",
       "      <td>36</td>\n",
       "      <td>NEW YORK</td>\n",
       "      <td>NY</td>\n",
       "      <td>36001</td>\n",
       "      <td>Albany</td>\n",
       "      <td>36001001802</td>\n",
       "      <td>Census Tract 18.02, Albany County, New York</td>\n",
       "      <td>0.735887</td>\n",
       "      <td>4286</td>\n",
       "      <td>379</td>\n",
       "      <td>...</td>\n",
       "      <td>0</td>\n",
       "      <td>0</td>\n",
       "      <td>93</td>\n",
       "      <td>68</td>\n",
       "      <td>2.2</td>\n",
       "      <td>1.6</td>\n",
       "      <td>1683</td>\n",
       "      <td>0.072816</td>\n",
       "      <td>0.000211</td>\n",
       "      <td>POLYGON ((-73.82955 42.66075, -73.82684 42.662...</td>\n",
       "    </tr>\n",
       "  </tbody>\n",
       "</table>\n",
       "<p>5 rows × 127 columns</p>\n",
       "</div>"
      ],
      "text/plain": [
       "   ST     STATE ST_ABBR STCNTY  COUNTY         FIPS  \\\n",
       "0  36  NEW YORK      NY  36001  Albany  36001000100   \n",
       "1  36  NEW YORK      NY  36001  Albany  36001000403   \n",
       "2  36  NEW YORK      NY  36001  Albany  36001001700   \n",
       "3  36  NEW YORK      NY  36001  Albany  36001001801   \n",
       "4  36  NEW YORK      NY  36001  Albany  36001001802   \n",
       "\n",
       "                                      LOCATION  AREA_SQMI  E_TOTPOP  M_TOTPOP  \\\n",
       "0      Census Tract 1, Albany County, New York   0.914079      2022       218   \n",
       "1   Census Tract 4.03, Albany County, New York   1.211858      4236       365   \n",
       "2     Census Tract 17, Albany County, New York   0.527898      4486       406   \n",
       "3  Census Tract 18.01, Albany County, New York   3.107938      6993       533   \n",
       "4  Census Tract 18.02, Albany County, New York   0.735887      4286       379   \n",
       "\n",
       "   ...  F_THEME4  F_TOTAL  E_UNINSUR  M_UNINSUR  EP_UNINSUR  MP_UNINSUR  \\\n",
       "0  ...         0        3        128         57         6.3         2.8   \n",
       "1  ...         0        0        133        104         3.1         2.5   \n",
       "2  ...         0        0        117         71         2.7         1.6   \n",
       "3  ...         0        1         77         66         1.1         0.9   \n",
       "4  ...         0        0         93         68         2.2         1.6   \n",
       "\n",
       "   E_DAYPOP  Shape_Leng  Shape_Area  \\\n",
       "0      3031    0.070750    0.000286   \n",
       "1     11514    0.111548    0.000344   \n",
       "2      5072    0.059361    0.000151   \n",
       "3      4699    0.196286    0.000887   \n",
       "4      1683    0.072816    0.000211   \n",
       "\n",
       "                                            geometry  \n",
       "0  POLYGON ((-73.74506 42.67228, -73.74374 42.677...  \n",
       "1  POLYGON ((-73.82108 42.67858, -73.81916 42.680...  \n",
       "2  POLYGON ((-73.80454 42.66263, -73.80212 42.662...  \n",
       "3  POLYGON ((-73.84719 42.64865, -73.84226 42.652...  \n",
       "4  POLYGON ((-73.82955 42.66075, -73.82684 42.662...  \n",
       "\n",
       "[5 rows x 127 columns]"
      ]
     },
     "execution_count": 5,
     "metadata": {},
     "output_type": "execute_result"
    }
   ],
   "source": [
    "dff.head()"
   ]
  },
  {
   "cell_type": "code",
   "execution_count": 7,
   "metadata": {},
   "outputs": [
    {
     "data": {
      "text/plain": [
       "{'36047': 749,\n",
       " '36081': 644,\n",
       " '36005': 332,\n",
       " '36103': 322,\n",
       " '36061': 279,\n",
       " '36059': 278,\n",
       " '36029': 233,\n",
       " '36119': 219,\n",
       " '36055': 190,\n",
       " '36067': 140,\n",
       " '36085': 107,\n",
       " '36071': 79,\n",
       " '36027': 78,\n",
       " '36001': 75,\n",
       " '36065': 71,\n",
       " '36087': 65,\n",
       " '36063': 60,\n",
       " '36007': 55,\n",
       " '36091': 50,\n",
       " '36111': 47,\n",
       " '36093': 43,\n",
       " '36083': 42,\n",
       " '36013': 35,\n",
       " '36101': 30,\n",
       " '36075': 29,\n",
       " '36089': 27,\n",
       " '36069': 25,\n",
       " '36105': 24,\n",
       " '36045': 24,\n",
       " '36109': 23,\n",
       " '36117': 22,\n",
       " '36021': 21,\n",
       " '36015': 21,\n",
       " '36009': 20,\n",
       " '36113': 19,\n",
       " '36011': 19,\n",
       " '36079': 19,\n",
       " '36043': 19,\n",
       " '36019': 18,\n",
       " '36077': 17,\n",
       " '36115': 17,\n",
       " '36057': 16,\n",
       " '36053': 16,\n",
       " '36035': 15,\n",
       " '36037': 15,\n",
       " '36033': 14,\n",
       " '36039': 14,\n",
       " '36031': 13,\n",
       " '36025': 13,\n",
       " '36051': 13,\n",
       " '36023': 12,\n",
       " '36003': 12,\n",
       " '36017': 12,\n",
       " '36121': 11,\n",
       " '36099': 10,\n",
       " '36107': 10,\n",
       " '36073': 10,\n",
       " '36095': 7,\n",
       " '36049': 7,\n",
       " '36097': 5,\n",
       " '36123': 5,\n",
       " '36041': 4}"
      ]
     },
     "execution_count": 7,
     "metadata": {},
     "output_type": "execute_result"
    }
   ],
   "source": [
    "# get the count of each unique STCNTY\n",
    "dff['STCNTY'].value_counts().to_dict()"
   ]
  },
  {
   "cell_type": "code",
   "execution_count": null,
   "metadata": {},
   "outputs": [],
   "source": []
  }
 ],
 "metadata": {
  "kernelspec": {
   "display_name": "pytorch_env",
   "language": "python",
   "name": "python3"
  },
  "language_info": {
   "codemirror_mode": {
    "name": "ipython",
    "version": 3
   },
   "file_extension": ".py",
   "mimetype": "text/x-python",
   "name": "python",
   "nbconvert_exporter": "python",
   "pygments_lexer": "ipython3",
   "version": "3.12.3"
  }
 },
 "nbformat": 4,
 "nbformat_minor": 2
}
